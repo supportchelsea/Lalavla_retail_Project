{
  "nbformat": 4,
  "nbformat_minor": 0,
  "metadata": {
    "colab": {
      "name": "cf_knn_cosine.ipynb",
      "version": "0.3.2",
      "provenance": [],
      "collapsed_sections": [],
      "include_colab_link": true
    },
    "kernelspec": {
      "name": "python3",
      "display_name": "Python 3"
    },
    "accelerator": "TPU"
  },
  "cells": [
    {
      "cell_type": "markdown",
      "metadata": {
        "id": "view-in-github",
        "colab_type": "text"
      },
      "source": [
        "<a href=\"https://colab.research.google.com/github/supportchelsea/Weather-Competition/blob/master/cf_knn_cosine.ipynb\" target=\"_parent\"><img src=\"https://colab.research.google.com/assets/colab-badge.svg\" alt=\"Open In Colab\"/></a>"
      ]
    },
    {
      "cell_type": "code",
      "metadata": {
        "id": "GiNmE25F_r-H",
        "colab_type": "code",
        "outputId": "58085df2-dbc9-4d13-84a6-f8dd05d666ea",
        "colab": {
          "base_uri": "https://localhost:8080/",
          "height": 292
        }
      },
      "source": [
        "!pip3 install surprise"
      ],
      "execution_count": 1,
      "outputs": [
        {
          "output_type": "stream",
          "text": [
            "Collecting surprise\n",
            "  Downloading https://files.pythonhosted.org/packages/61/de/e5cba8682201fcf9c3719a6fdda95693468ed061945493dea2dd37c5618b/surprise-0.1-py2.py3-none-any.whl\n",
            "Collecting scikit-surprise (from surprise)\n",
            "\u001b[?25l  Downloading https://files.pythonhosted.org/packages/4d/fc/cd4210b247d1dca421c25994740cbbf03c5e980e31881f10eaddf45fdab0/scikit-surprise-1.0.6.tar.gz (3.3MB)\n",
            "\u001b[K     |████████████████████████████████| 3.3MB 3.5MB/s \n",
            "\u001b[?25hRequirement already satisfied: joblib>=0.11 in /usr/local/lib/python3.6/dist-packages (from scikit-surprise->surprise) (0.13.2)\n",
            "Requirement already satisfied: numpy>=1.11.2 in /usr/local/lib/python3.6/dist-packages (from scikit-surprise->surprise) (1.16.4)\n",
            "Requirement already satisfied: scipy>=1.0.0 in /usr/local/lib/python3.6/dist-packages (from scikit-surprise->surprise) (1.3.0)\n",
            "Requirement already satisfied: six>=1.10.0 in /usr/local/lib/python3.6/dist-packages (from scikit-surprise->surprise) (1.12.0)\n",
            "Building wheels for collected packages: scikit-surprise\n",
            "  Building wheel for scikit-surprise (setup.py) ... \u001b[?25l\u001b[?25hdone\n",
            "  Stored in directory: /root/.cache/pip/wheels/ec/c0/55/3a28eab06b53c220015063ebbdb81213cd3dcbb72c088251ec\n",
            "Successfully built scikit-surprise\n",
            "Installing collected packages: scikit-surprise, surprise\n",
            "Successfully installed scikit-surprise-1.0.6 surprise-0.1\n"
          ],
          "name": "stdout"
        }
      ]
    },
    {
      "cell_type": "code",
      "metadata": {
        "id": "OBpNENal4dAe",
        "colab_type": "code",
        "colab": {}
      },
      "source": [
        "import surprise\n",
        "import pandas as pd\n",
        "import numpy as np\n",
        "import seaborn as sns\n",
        "import datetime as dt\n",
        "from tqdm import tqdm_notebook\n",
        "import sys\n",
        "import os\n",
        "from matplotlib import pyplot as plt\n",
        "\n",
        "%matplotlib inline"
      ],
      "execution_count": 0,
      "outputs": []
    },
    {
      "cell_type": "code",
      "metadata": {
        "id": "1cNX2Ohg40yQ",
        "colab_type": "code",
        "colab": {}
      },
      "source": [
        "path = './gdrive/My Drive/GitHub/Weather Competition/'"
      ],
      "execution_count": 0,
      "outputs": []
    },
    {
      "cell_type": "code",
      "metadata": {
        "id": "0nU0hsZh44qN",
        "colab_type": "code",
        "colab": {}
      },
      "source": [
        "hnb = pd.read_csv(path+'data/korea_hnb.csv').iloc[:,1:]"
      ],
      "execution_count": 0,
      "outputs": []
    },
    {
      "cell_type": "code",
      "metadata": {
        "id": "u-bkTghv47sm",
        "colab_type": "code",
        "colab": {}
      },
      "source": [
        "hnb.columns = list(i.split('.')[1] for i in hnb.columns)"
      ],
      "execution_count": 0,
      "outputs": []
    },
    {
      "cell_type": "code",
      "metadata": {
        "id": "bMo1czCr48kx",
        "colab_type": "code",
        "outputId": "d9dbbce9-d486-47f0-94fc-b6d10772d92b",
        "colab": {
          "base_uri": "https://localhost:8080/",
          "height": 204
        }
      },
      "source": [
        "# hnb.head()"
      ],
      "execution_count": 0,
      "outputs": [
        {
          "output_type": "execute_result",
          "data": {
            "text/html": [
              "<div>\n",
              "<style scoped>\n",
              "    .dataframe tbody tr th:only-of-type {\n",
              "        vertical-align: middle;\n",
              "    }\n",
              "\n",
              "    .dataframe tbody tr th {\n",
              "        vertical-align: top;\n",
              "    }\n",
              "\n",
              "    .dataframe thead th {\n",
              "        text-align: right;\n",
              "    }\n",
              "</style>\n",
              "<table border=\"1\" class=\"dataframe\">\n",
              "  <thead>\n",
              "    <tr style=\"text-align: right;\">\n",
              "      <th></th>\n",
              "      <th>bor_nm</th>\n",
              "      <th>sale_dt</th>\n",
              "      <th>gen_cd</th>\n",
              "      <th>age_cd</th>\n",
              "      <th>category</th>\n",
              "      <th>qty</th>\n",
              "    </tr>\n",
              "  </thead>\n",
              "  <tbody>\n",
              "    <tr>\n",
              "      <th>0</th>\n",
              "      <td>종로구</td>\n",
              "      <td>20160101</td>\n",
              "      <td>F</td>\n",
              "      <td>20~39</td>\n",
              "      <td>립컬러</td>\n",
              "      <td>73</td>\n",
              "    </tr>\n",
              "    <tr>\n",
              "      <th>1</th>\n",
              "      <td>종로구</td>\n",
              "      <td>20160101</td>\n",
              "      <td>F</td>\n",
              "      <td>20~39</td>\n",
              "      <td>립케어</td>\n",
              "      <td>219</td>\n",
              "    </tr>\n",
              "    <tr>\n",
              "      <th>2</th>\n",
              "      <td>종로구</td>\n",
              "      <td>20160101</td>\n",
              "      <td>F</td>\n",
              "      <td>20~39</td>\n",
              "      <td>마스크팩</td>\n",
              "      <td>657</td>\n",
              "    </tr>\n",
              "    <tr>\n",
              "      <th>3</th>\n",
              "      <td>종로구</td>\n",
              "      <td>20160101</td>\n",
              "      <td>F</td>\n",
              "      <td>20~39</td>\n",
              "      <td>바디로션</td>\n",
              "      <td>328</td>\n",
              "    </tr>\n",
              "    <tr>\n",
              "      <th>4</th>\n",
              "      <td>종로구</td>\n",
              "      <td>20160101</td>\n",
              "      <td>F</td>\n",
              "      <td>20~39</td>\n",
              "      <td>체중조절</td>\n",
              "      <td>109</td>\n",
              "    </tr>\n",
              "  </tbody>\n",
              "</table>\n",
              "</div>"
            ],
            "text/plain": [
              "  bor_nm   sale_dt gen_cd age_cd category  qty\n",
              "0    종로구  20160101      F  20~39      립컬러   73\n",
              "1    종로구  20160101      F  20~39      립케어  219\n",
              "2    종로구  20160101      F  20~39     마스크팩  657\n",
              "3    종로구  20160101      F  20~39     바디로션  328\n",
              "4    종로구  20160101      F  20~39     체중조절  109"
            ]
          },
          "metadata": {
            "tags": []
          },
          "execution_count": 100
        }
      ]
    },
    {
      "cell_type": "code",
      "metadata": {
        "id": "JPCJeuIM4-PY",
        "colab_type": "code",
        "colab": {}
      },
      "source": [
        "segmentation = pd.DataFrame({'segmentation' : [hnb['bor_nm'][i]+' '+hnb['gen_cd'][i]+' '+hnb['age_cd'][i] for i in range(len(hnb))]})"
      ],
      "execution_count": 0,
      "outputs": []
    },
    {
      "cell_type": "code",
      "metadata": {
        "id": "oRRPTx4o5BZV",
        "colab_type": "code",
        "colab": {}
      },
      "source": [
        "hnb = pd.concat([hnb['sale_dt'],segmentation,hnb['category'],hnb['qty']], axis=1) "
      ],
      "execution_count": 0,
      "outputs": []
    },
    {
      "cell_type": "code",
      "metadata": {
        "id": "v8SxnmV95P5x",
        "colab_type": "code",
        "colab": {}
      },
      "source": [
        "# df_hnb.head()"
      ],
      "execution_count": 0,
      "outputs": []
    },
    {
      "cell_type": "code",
      "metadata": {
        "id": "FPo-gBClFrsc",
        "colab_type": "code",
        "colab": {}
      },
      "source": [
        "rainy = [20180122.0,\n",
        " 20180223.0,\n",
        " 20180228.0,\n",
        " 20180301.0,\n",
        " 20180304.0,\n",
        " 20180305.0,\n",
        " 20180308.0,\n",
        " 20180315.0,\n",
        " 20180318.0,\n",
        " 20180319.0,\n",
        " 20180321.0,\n",
        " 20180404.0,\n",
        " 20180405.0,\n",
        " 20180406.0,\n",
        " 20180408.0,\n",
        " 20180410.0,\n",
        " 20180414.0,\n",
        " 20180422.0,\n",
        " 20180423.0,\n",
        " 20180424.0,\n",
        " 20180502.0,\n",
        " 20180503.0,\n",
        " 20180506.0,\n",
        " 20180512.0,\n",
        " 20180516.0,\n",
        " 20180517.0,\n",
        " 20180518.0,\n",
        " 20180522.0,\n",
        " 20180523.0,\n",
        " 20180529.0,\n",
        " 20180530.0,\n",
        " 20180609.0,\n",
        " 20180610.0,\n",
        " 20180611.0,\n",
        " 20180614.0,\n",
        " 20180615.0,\n",
        " 20180626.0,\n",
        " 20180628.0,\n",
        " 20180629.0,\n",
        " 20180630.0,\n",
        " 20180701.0,\n",
        " 20180702.0,\n",
        " 20180703.0,\n",
        " 20180705.0,\n",
        " 20180709.0,\n",
        " 20180710.0,\n",
        " 20180711.0,\n",
        " 20180728.0,\n",
        " 20180805.0,\n",
        " 20180806.0,\n",
        " 20180809.0,\n",
        " 20180812.0,\n",
        " 20180813.0,\n",
        " 20180815.0,\n",
        " 20180821.0,\n",
        " 20180823.0,\n",
        " 20180824.0,\n",
        " 20180826.0,\n",
        " 20180827.0,\n",
        " 20180828.0,\n",
        " 20180829.0,\n",
        " 20180830.0,\n",
        " 20180903.0,\n",
        " 20180906.0,\n",
        " 20180907.0,\n",
        " 20180915.0,\n",
        " 20180916.0,\n",
        " 20180920.0,\n",
        " 20180921.0,\n",
        " 20180922.0,\n",
        " 20181005.0,\n",
        " 20181006.0,\n",
        " 20181010.0,\n",
        " 20181023.0,\n",
        " 20181026.0,\n",
        " 20181028.0,\n",
        " 20181107.0,\n",
        " 20181108.0,\n",
        " 20181121.0,\n",
        " 20181124.0,\n",
        " 20181203.0,\n",
        " 20181204.0]"
      ],
      "execution_count": 0,
      "outputs": []
    },
    {
      "cell_type": "code",
      "metadata": {
        "id": "t1Yivuq4FxvH",
        "colab_type": "code",
        "colab": {}
      },
      "source": [
        "rainy = [str(i).split('.')[0] for i in rainy]"
      ],
      "execution_count": 0,
      "outputs": []
    },
    {
      "cell_type": "code",
      "metadata": {
        "id": "AauKoJMNGPpk",
        "colab_type": "code",
        "colab": {}
      },
      "source": [
        "rainy_date = []\n",
        "\n",
        "for i in rainy:\n",
        "  for j in df_hnb['sale_dt'] :\n",
        "    if i == str(j):\n",
        "      rainy_date.append(True)\n",
        "    else:\n",
        "      rainy_date.append(False)"
      ],
      "execution_count": 0,
      "outputs": []
    },
    {
      "cell_type": "code",
      "metadata": {
        "id": "CsxiXqXtF-1_",
        "colab_type": "code",
        "colab": {}
      },
      "source": [
        "# len(rainy_date)"
      ],
      "execution_count": 0,
      "outputs": []
    },
    {
      "cell_type": "code",
      "metadata": {
        "id": "Sj4zHlPkORYN",
        "colab_type": "code",
        "colab": {}
      },
      "source": [
        ""
      ],
      "execution_count": 0,
      "outputs": []
    },
    {
      "cell_type": "code",
      "metadata": {
        "id": "fzzzD1imMJC8",
        "colab_type": "code",
        "colab": {}
      },
      "source": [
        "df_rainy = pd.DataFrame(rainy_date)\n",
        "\n",
        "df_rainy.columns = ['rainy_day']"
      ],
      "execution_count": 0,
      "outputs": []
    },
    {
      "cell_type": "code",
      "metadata": {
        "id": "QbnxArMsMvtt",
        "colab_type": "code",
        "colab": {}
      },
      "source": [
        ""
      ],
      "execution_count": 0,
      "outputs": []
    },
    {
      "cell_type": "code",
      "metadata": {
        "id": "gFjKI68ZGkU3",
        "colab_type": "code",
        "colab": {}
      },
      "source": [
        "df_hnb = pd.concat([hnb,df_rainy],axis=1)"
      ],
      "execution_count": 0,
      "outputs": []
    },
    {
      "cell_type": "code",
      "metadata": {
        "id": "t2RXgynVF-w7",
        "colab_type": "code",
        "colab": {}
      },
      "source": [
        "df_hnb = df_hnb[df_hnb['sale_dt']>20171231]"
      ],
      "execution_count": 0,
      "outputs": []
    },
    {
      "cell_type": "code",
      "metadata": {
        "id": "hc5IEqIb5HzJ",
        "colab_type": "code",
        "colab": {}
      },
      "source": [
        "rainy = df_hnb[df_hnb['rainy_day']==True].iloc[:,1:4].dropna() #비오는 날만\n",
        "\n",
        "not_rainy = df_hnb[df_hnb['rainy_day']==False].iloc[:,1:4]"
      ],
      "execution_count": 0,
      "outputs": []
    },
    {
      "cell_type": "code",
      "metadata": {
        "id": "ay1oT0q1OJp_",
        "colab_type": "code",
        "outputId": "2f35712e-df7e-47d0-f6a5-5465854f8823",
        "colab": {
          "base_uri": "https://localhost:8080/",
          "height": 142
        }
      },
      "source": [
        "not_rainy.head(3)"
      ],
      "execution_count": 0,
      "outputs": [
        {
          "output_type": "execute_result",
          "data": {
            "text/html": [
              "<div>\n",
              "<style scoped>\n",
              "    .dataframe tbody tr th:only-of-type {\n",
              "        vertical-align: middle;\n",
              "    }\n",
              "\n",
              "    .dataframe tbody tr th {\n",
              "        vertical-align: top;\n",
              "    }\n",
              "\n",
              "    .dataframe thead th {\n",
              "        text-align: right;\n",
              "    }\n",
              "</style>\n",
              "<table border=\"1\" class=\"dataframe\">\n",
              "  <thead>\n",
              "    <tr style=\"text-align: right;\">\n",
              "      <th></th>\n",
              "      <th>segmentation</th>\n",
              "      <th>category</th>\n",
              "      <th>qty</th>\n",
              "    </tr>\n",
              "  </thead>\n",
              "  <tbody>\n",
              "    <tr>\n",
              "      <th>547246</th>\n",
              "      <td>종로구 F 20~39</td>\n",
              "      <td>네일</td>\n",
              "      <td>36.0</td>\n",
              "    </tr>\n",
              "    <tr>\n",
              "      <th>547247</th>\n",
              "      <td>종로구 F 20~39</td>\n",
              "      <td>립컬러</td>\n",
              "      <td>182.0</td>\n",
              "    </tr>\n",
              "    <tr>\n",
              "      <th>547248</th>\n",
              "      <td>종로구 F 20~39</td>\n",
              "      <td>립케어</td>\n",
              "      <td>146.0</td>\n",
              "    </tr>\n",
              "  </tbody>\n",
              "</table>\n",
              "</div>"
            ],
            "text/plain": [
              "       segmentation category    qty\n",
              "547246  종로구 F 20~39       네일   36.0\n",
              "547247  종로구 F 20~39      립컬러  182.0\n",
              "547248  종로구 F 20~39      립케어  146.0"
            ]
          },
          "metadata": {
            "tags": []
          },
          "execution_count": 46
        }
      ]
    },
    {
      "cell_type": "code",
      "metadata": {
        "id": "-J0tYP9Q5NeA",
        "colab_type": "code",
        "outputId": "3fa79f0a-6ae1-48ce-c1ac-1d798d1a020e",
        "colab": {
          "base_uri": "https://localhost:8080/",
          "height": 34
        }
      },
      "source": [
        "len(rainy)"
      ],
      "execution_count": 0,
      "outputs": [
        {
          "output_type": "execute_result",
          "data": {
            "text/plain": [
              "592"
            ]
          },
          "metadata": {
            "tags": []
          },
          "execution_count": 30
        }
      ]
    },
    {
      "cell_type": "code",
      "metadata": {
        "id": "gTg9pnQJE5O2",
        "colab_type": "code",
        "outputId": "adfa0c22-0225-4b40-f521-5739a825af20",
        "colab": {
          "base_uri": "https://localhost:8080/",
          "height": 34
        }
      },
      "source": [
        "not_rainy.head(3)\n",
        "len(not_rainy)"
      ],
      "execution_count": 0,
      "outputs": [
        {
          "output_type": "execute_result",
          "data": {
            "text/plain": [
              "272436"
            ]
          },
          "metadata": {
            "tags": []
          },
          "execution_count": 31
        }
      ]
    },
    {
      "cell_type": "code",
      "metadata": {
        "id": "iRam-e5it6Kc",
        "colab_type": "code",
        "colab": {
          "base_uri": "https://localhost:8080/",
          "height": 142
        },
        "outputId": "bc8a1d57-8e88-4884-c78e-22a5bce2c552"
      },
      "source": [
        "rainy.head(3)"
      ],
      "execution_count": 19,
      "outputs": [
        {
          "output_type": "execute_result",
          "data": {
            "text/html": [
              "<div>\n",
              "<style scoped>\n",
              "    .dataframe tbody tr th:only-of-type {\n",
              "        vertical-align: middle;\n",
              "    }\n",
              "\n",
              "    .dataframe tbody tr th {\n",
              "        vertical-align: top;\n",
              "    }\n",
              "\n",
              "    .dataframe thead th {\n",
              "        text-align: right;\n",
              "    }\n",
              "</style>\n",
              "<table border=\"1\" class=\"dataframe\">\n",
              "  <thead>\n",
              "    <tr style=\"text-align: right;\">\n",
              "      <th></th>\n",
              "      <th>segmentation</th>\n",
              "      <th>category</th>\n",
              "      <th>qty</th>\n",
              "    </tr>\n",
              "  </thead>\n",
              "  <tbody>\n",
              "    <tr>\n",
              "      <th>547479</th>\n",
              "      <td>종로구 F 00~19</td>\n",
              "      <td>립케어</td>\n",
              "      <td>109.0</td>\n",
              "    </tr>\n",
              "    <tr>\n",
              "      <th>547480</th>\n",
              "      <td>종로구 F 20~39</td>\n",
              "      <td>네일</td>\n",
              "      <td>36.0</td>\n",
              "    </tr>\n",
              "    <tr>\n",
              "      <th>547481</th>\n",
              "      <td>종로구 F 20~39</td>\n",
              "      <td>립컬러</td>\n",
              "      <td>36.0</td>\n",
              "    </tr>\n",
              "  </tbody>\n",
              "</table>\n",
              "</div>"
            ],
            "text/plain": [
              "       segmentation category    qty\n",
              "547479  종로구 F 00~19      립케어  109.0\n",
              "547480  종로구 F 20~39       네일   36.0\n",
              "547481  종로구 F 20~39      립컬러   36.0"
            ]
          },
          "metadata": {
            "tags": []
          },
          "execution_count": 19
        }
      ]
    },
    {
      "cell_type": "code",
      "metadata": {
        "id": "rqZ9zfSQKddS",
        "colab_type": "code",
        "colab": {}
      },
      "source": [
        "# rainy = [str(i).split('.')[0] for i in rainy]"
      ],
      "execution_count": 0,
      "outputs": []
    },
    {
      "cell_type": "code",
      "metadata": {
        "id": "3JZNqZ7_KRuU",
        "colab_type": "code",
        "colab": {}
      },
      "source": [
        ""
      ],
      "execution_count": 0,
      "outputs": []
    },
    {
      "cell_type": "code",
      "metadata": {
        "id": "FW5AyTac6HJ9",
        "colab_type": "code",
        "outputId": "1ec64d95-3df1-4b94-83ce-22bb8071da0f",
        "colab": {
          "base_uri": "https://localhost:8080/",
          "height": 34
        }
      },
      "source": [
        "l_qty = rainy['qty'].min()\n",
        "u_qty = rainy['qty'].max()\n",
        "\n",
        "print('Quantity range : {0} to {1}'.format(l_qty,u_qty))"
      ],
      "execution_count": 20,
      "outputs": [
        {
          "output_type": "stream",
          "text": [
            "Quantity range : 36.0 to 6567.0\n"
          ],
          "name": "stdout"
        }
      ]
    },
    {
      "cell_type": "code",
      "metadata": {
        "id": "bIuf3gNTAaWi",
        "colab_type": "code",
        "colab": {}
      },
      "source": [
        "reader = surprise.Reader()"
      ],
      "execution_count": 0,
      "outputs": []
    },
    {
      "cell_type": "code",
      "metadata": {
        "id": "K7_WOa_25auv",
        "colab_type": "code",
        "colab": {}
      },
      "source": [
        "surprise_rainy = surprise.Dataset.load_from_df(rainy,reader)\n",
        "# df_tmp2 = surprise.Dataset.load_from_df(tmp2,reader)"
      ],
      "execution_count": 0,
      "outputs": []
    },
    {
      "cell_type": "code",
      "metadata": {
        "id": "I1hBO9beC1Q8",
        "colab_type": "code",
        "colab": {}
      },
      "source": [
        "from surprise.model_selection import train_test_split\n",
        "\n",
        "trainset, testset = train_test_split(surprise_rainy, test_size=0.25,random_state=42)"
      ],
      "execution_count": 0,
      "outputs": []
    },
    {
      "cell_type": "code",
      "metadata": {
        "id": "mHSuqvuoFUkm",
        "colab_type": "code",
        "colab": {}
      },
      "source": [
        ""
      ],
      "execution_count": 0,
      "outputs": []
    },
    {
      "cell_type": "code",
      "metadata": {
        "id": "uYHR6ybjhUQO",
        "colab_type": "code",
        "colab": {}
      },
      "source": [
        "sim_options = {'name': 'cosine',\n",
        "               'user_based': False , # compute  similarities between items\n",
        "               'min_support':2,\n",
        "               'random_state':42\n",
        "               }\n",
        "\n",
        "algo_knn = surprise.KNNBasic(sim_options=sim_options)\n",
        "\n",
        "# algo_SVDpp = surprise.SVDpp(user_based= False,random_state=42)"
      ],
      "execution_count": 0,
      "outputs": []
    },
    {
      "cell_type": "code",
      "metadata": {
        "id": "1NL1PmE0hqUS",
        "colab_type": "code",
        "outputId": "d426f988-4def-4aaf-cdb8-befa61c737cb",
        "colab": {
          "base_uri": "https://localhost:8080/",
          "height": 68
        }
      },
      "source": [
        "algo_knn.fit(trainset)\n",
        "# algo_SVDpp.fit(trainset)"
      ],
      "execution_count": 32,
      "outputs": [
        {
          "output_type": "stream",
          "text": [
            "Computing the cosine similarity matrix...\n",
            "Done computing similarity matrix.\n"
          ],
          "name": "stdout"
        },
        {
          "output_type": "execute_result",
          "data": {
            "text/plain": [
              "<surprise.prediction_algorithms.knns.KNNBasic at 0x7f2abcee7a58>"
            ]
          },
          "metadata": {
            "tags": []
          },
          "execution_count": 32
        }
      ]
    },
    {
      "cell_type": "code",
      "metadata": {
        "id": "yGxpAthHsjkG",
        "colab_type": "code",
        "colab": {}
      },
      "source": [
        ""
      ],
      "execution_count": 0,
      "outputs": []
    },
    {
      "cell_type": "code",
      "metadata": {
        "id": "jokbWmJXnbY8",
        "colab_type": "code",
        "outputId": "ddf42faf-7ab2-450b-f266-dea25991dc3f",
        "colab": {
          "base_uri": "https://localhost:8080/",
          "height": 51
        }
      },
      "source": [
        "sim_knn = algo_knn.compute_similarities()\n",
        "# sim_SVDpp = algo_SVDpp.compute_similarities()"
      ],
      "execution_count": 33,
      "outputs": [
        {
          "output_type": "stream",
          "text": [
            "Computing the cosine similarity matrix...\n",
            "Done computing similarity matrix.\n"
          ],
          "name": "stdout"
        }
      ]
    },
    {
      "cell_type": "code",
      "metadata": {
        "id": "FPfydBu0q5NF",
        "colab_type": "code",
        "outputId": "1535e3ed-20b9-4495-81e9-d173c22ddb18",
        "colab": {
          "base_uri": "https://localhost:8080/",
          "height": 34
        }
      },
      "source": [
        "# algo_SVDpp.sim_options"
      ],
      "execution_count": 0,
      "outputs": [
        {
          "output_type": "execute_result",
          "data": {
            "text/plain": [
              "{'user_based': True}"
            ]
          },
          "metadata": {
            "tags": []
          },
          "execution_count": 82
        }
      ]
    },
    {
      "cell_type": "code",
      "metadata": {
        "id": "0UUuB-b0n3we",
        "colab_type": "code",
        "colab": {}
      },
      "source": [
        "knn_rainy = pd.DataFrame(sim_knn)\n",
        "# SVDpp_rainy = pd.DataFrame(sim_SVDpp)"
      ],
      "execution_count": 0,
      "outputs": []
    },
    {
      "cell_type": "code",
      "metadata": {
        "id": "RGFUOfnvowCd",
        "colab_type": "code",
        "colab": {}
      },
      "source": [
        "label = hnb['category'].unique()"
      ],
      "execution_count": 0,
      "outputs": []
    },
    {
      "cell_type": "code",
      "metadata": {
        "id": "IP8LLvdlodF2",
        "colab_type": "code",
        "outputId": "416b6090-3cca-4880-de87-ff885dce1a60",
        "colab": {
          "base_uri": "https://localhost:8080/",
          "height": 359
        }
      },
      "source": [
        "knn_rainy.columns = label\n",
        "knn_rainy.index  = label\n",
        "knn_rainy"
      ],
      "execution_count": 35,
      "outputs": [
        {
          "output_type": "execute_result",
          "data": {
            "text/html": [
              "<div>\n",
              "<style scoped>\n",
              "    .dataframe tbody tr th:only-of-type {\n",
              "        vertical-align: middle;\n",
              "    }\n",
              "\n",
              "    .dataframe tbody tr th {\n",
              "        vertical-align: top;\n",
              "    }\n",
              "\n",
              "    .dataframe thead th {\n",
              "        text-align: right;\n",
              "    }\n",
              "</style>\n",
              "<table border=\"1\" class=\"dataframe\">\n",
              "  <thead>\n",
              "    <tr style=\"text-align: right;\">\n",
              "      <th></th>\n",
              "      <th>립컬러</th>\n",
              "      <th>립케어</th>\n",
              "      <th>마스크팩</th>\n",
              "      <th>바디로션</th>\n",
              "      <th>체중조절</th>\n",
              "      <th>크림로션</th>\n",
              "      <th>훼이셜클렌저</th>\n",
              "      <th>선케어</th>\n",
              "      <th>네일</th>\n",
              "      <th>제모제</th>\n",
              "    </tr>\n",
              "  </thead>\n",
              "  <tbody>\n",
              "    <tr>\n",
              "      <th>립컬러</th>\n",
              "      <td>1.000000</td>\n",
              "      <td>0.859883</td>\n",
              "      <td>0.912462</td>\n",
              "      <td>0.832488</td>\n",
              "      <td>0.903779</td>\n",
              "      <td>0.852938</td>\n",
              "      <td>0.688625</td>\n",
              "      <td>0.767230</td>\n",
              "      <td>0.781112</td>\n",
              "      <td>0.807020</td>\n",
              "    </tr>\n",
              "    <tr>\n",
              "      <th>립케어</th>\n",
              "      <td>0.859883</td>\n",
              "      <td>1.000000</td>\n",
              "      <td>0.888123</td>\n",
              "      <td>0.906501</td>\n",
              "      <td>0.879121</td>\n",
              "      <td>0.805071</td>\n",
              "      <td>0.783195</td>\n",
              "      <td>0.874651</td>\n",
              "      <td>0.896595</td>\n",
              "      <td>0.608505</td>\n",
              "    </tr>\n",
              "    <tr>\n",
              "      <th>마스크팩</th>\n",
              "      <td>0.912462</td>\n",
              "      <td>0.888123</td>\n",
              "      <td>1.000000</td>\n",
              "      <td>0.904986</td>\n",
              "      <td>0.895806</td>\n",
              "      <td>0.852721</td>\n",
              "      <td>0.704597</td>\n",
              "      <td>0.552387</td>\n",
              "      <td>0.829305</td>\n",
              "      <td>0.656714</td>\n",
              "    </tr>\n",
              "    <tr>\n",
              "      <th>바디로션</th>\n",
              "      <td>0.832488</td>\n",
              "      <td>0.906501</td>\n",
              "      <td>0.904986</td>\n",
              "      <td>1.000000</td>\n",
              "      <td>0.924282</td>\n",
              "      <td>0.860022</td>\n",
              "      <td>0.487415</td>\n",
              "      <td>0.853207</td>\n",
              "      <td>0.633229</td>\n",
              "      <td>0.546374</td>\n",
              "    </tr>\n",
              "    <tr>\n",
              "      <th>체중조절</th>\n",
              "      <td>0.903779</td>\n",
              "      <td>0.879121</td>\n",
              "      <td>0.895806</td>\n",
              "      <td>0.924282</td>\n",
              "      <td>1.000000</td>\n",
              "      <td>0.897915</td>\n",
              "      <td>0.782247</td>\n",
              "      <td>0.868015</td>\n",
              "      <td>0.773114</td>\n",
              "      <td>0.608161</td>\n",
              "    </tr>\n",
              "    <tr>\n",
              "      <th>크림로션</th>\n",
              "      <td>0.852938</td>\n",
              "      <td>0.805071</td>\n",
              "      <td>0.852721</td>\n",
              "      <td>0.860022</td>\n",
              "      <td>0.897915</td>\n",
              "      <td>1.000000</td>\n",
              "      <td>0.698607</td>\n",
              "      <td>0.956617</td>\n",
              "      <td>0.833076</td>\n",
              "      <td>0.616689</td>\n",
              "    </tr>\n",
              "    <tr>\n",
              "      <th>훼이셜클렌저</th>\n",
              "      <td>0.688625</td>\n",
              "      <td>0.783195</td>\n",
              "      <td>0.704597</td>\n",
              "      <td>0.487415</td>\n",
              "      <td>0.782247</td>\n",
              "      <td>0.698607</td>\n",
              "      <td>1.000000</td>\n",
              "      <td>0.980993</td>\n",
              "      <td>0.884968</td>\n",
              "      <td>0.865503</td>\n",
              "    </tr>\n",
              "    <tr>\n",
              "      <th>선케어</th>\n",
              "      <td>0.767230</td>\n",
              "      <td>0.874651</td>\n",
              "      <td>0.552387</td>\n",
              "      <td>0.853207</td>\n",
              "      <td>0.868015</td>\n",
              "      <td>0.956617</td>\n",
              "      <td>0.980993</td>\n",
              "      <td>1.000000</td>\n",
              "      <td>0.961068</td>\n",
              "      <td>0.982406</td>\n",
              "    </tr>\n",
              "    <tr>\n",
              "      <th>네일</th>\n",
              "      <td>0.781112</td>\n",
              "      <td>0.896595</td>\n",
              "      <td>0.829305</td>\n",
              "      <td>0.633229</td>\n",
              "      <td>0.773114</td>\n",
              "      <td>0.833076</td>\n",
              "      <td>0.884968</td>\n",
              "      <td>0.961068</td>\n",
              "      <td>1.000000</td>\n",
              "      <td>0.877449</td>\n",
              "    </tr>\n",
              "    <tr>\n",
              "      <th>제모제</th>\n",
              "      <td>0.807020</td>\n",
              "      <td>0.608505</td>\n",
              "      <td>0.656714</td>\n",
              "      <td>0.546374</td>\n",
              "      <td>0.608161</td>\n",
              "      <td>0.616689</td>\n",
              "      <td>0.865503</td>\n",
              "      <td>0.982406</td>\n",
              "      <td>0.877449</td>\n",
              "      <td>1.000000</td>\n",
              "    </tr>\n",
              "  </tbody>\n",
              "</table>\n",
              "</div>"
            ],
            "text/plain": [
              "             립컬러       립케어      마스크팩  ...       선케어        네일       제모제\n",
              "립컬러     1.000000  0.859883  0.912462  ...  0.767230  0.781112  0.807020\n",
              "립케어     0.859883  1.000000  0.888123  ...  0.874651  0.896595  0.608505\n",
              "마스크팩    0.912462  0.888123  1.000000  ...  0.552387  0.829305  0.656714\n",
              "바디로션    0.832488  0.906501  0.904986  ...  0.853207  0.633229  0.546374\n",
              "체중조절    0.903779  0.879121  0.895806  ...  0.868015  0.773114  0.608161\n",
              "크림로션    0.852938  0.805071  0.852721  ...  0.956617  0.833076  0.616689\n",
              "훼이셜클렌저  0.688625  0.783195  0.704597  ...  0.980993  0.884968  0.865503\n",
              "선케어     0.767230  0.874651  0.552387  ...  1.000000  0.961068  0.982406\n",
              "네일      0.781112  0.896595  0.829305  ...  0.961068  1.000000  0.877449\n",
              "제모제     0.807020  0.608505  0.656714  ...  0.982406  0.877449  1.000000\n",
              "\n",
              "[10 rows x 10 columns]"
            ]
          },
          "metadata": {
            "tags": []
          },
          "execution_count": 35
        }
      ]
    },
    {
      "cell_type": "code",
      "metadata": {
        "id": "fvkdD4LeqwJo",
        "colab_type": "code",
        "colab": {}
      },
      "source": [
        "# SVDpp.columns = label\n",
        "# SVDpp.index = label\n",
        "# SVDpp."
      ],
      "execution_count": 0,
      "outputs": []
    },
    {
      "cell_type": "code",
      "metadata": {
        "id": "Y7_XkIKZlKOn",
        "colab_type": "code",
        "colab": {}
      },
      "source": [
        ""
      ],
      "execution_count": 0,
      "outputs": []
    },
    {
      "cell_type": "markdown",
      "metadata": {
        "id": "V_H6yqiDGmYN",
        "colab_type": "text"
      },
      "source": [
        "---\n",
        "# Not Rainy"
      ]
    },
    {
      "cell_type": "code",
      "metadata": {
        "id": "_4SMrCAdlbqQ",
        "colab_type": "code",
        "outputId": "943a7ed7-d244-4a41-cb1f-c58fe4dfb430",
        "colab": {
          "base_uri": "https://localhost:8080/",
          "height": 85
        }
      },
      "source": [
        "surprise_not_rainy = surprise.Dataset.load_from_df(not_rainy,reader)\n",
        "\n",
        "trainset, testset = train_test_split(surprise_not_rainy, test_size=0.25,shuffle=True,random_state=42)\n",
        "\n",
        "algo_knn.fit(trainset)\n",
        "\n",
        "sim_knn = algo_knn.compute_similarities()\n",
        "\n",
        "knn_not_rainy = pd.DataFrame(sim_knn)"
      ],
      "execution_count": 36,
      "outputs": [
        {
          "output_type": "stream",
          "text": [
            "Computing the cosine similarity matrix...\n",
            "Done computing similarity matrix.\n",
            "Computing the cosine similarity matrix...\n",
            "Done computing similarity matrix.\n"
          ],
          "name": "stdout"
        }
      ]
    },
    {
      "cell_type": "code",
      "metadata": {
        "id": "ar7LLe8Zy8G7",
        "colab_type": "code",
        "outputId": "01b27ace-ed16-4b4e-ea84-97c09358218e",
        "colab": {
          "base_uri": "https://localhost:8080/",
          "height": 359
        }
      },
      "source": [
        "knn_not_rainy.columns = label\n",
        "knn_not_rainy.index  = label\n",
        "knn_not_rainy"
      ],
      "execution_count": 0,
      "outputs": [
        {
          "output_type": "execute_result",
          "data": {
            "text/html": [
              "<div>\n",
              "<style scoped>\n",
              "    .dataframe tbody tr th:only-of-type {\n",
              "        vertical-align: middle;\n",
              "    }\n",
              "\n",
              "    .dataframe tbody tr th {\n",
              "        vertical-align: top;\n",
              "    }\n",
              "\n",
              "    .dataframe thead th {\n",
              "        text-align: right;\n",
              "    }\n",
              "</style>\n",
              "<table border=\"1\" class=\"dataframe\">\n",
              "  <thead>\n",
              "    <tr style=\"text-align: right;\">\n",
              "      <th></th>\n",
              "      <th>네일</th>\n",
              "      <th>립컬러</th>\n",
              "      <th>립케어</th>\n",
              "      <th>마스크팩</th>\n",
              "      <th>바디로션</th>\n",
              "      <th>크림로션</th>\n",
              "      <th>훼이셜클렌저</th>\n",
              "      <th>선케어</th>\n",
              "      <th>체중조절</th>\n",
              "      <th>제모제</th>\n",
              "    </tr>\n",
              "  </thead>\n",
              "  <tbody>\n",
              "    <tr>\n",
              "      <th>네일</th>\n",
              "      <td>1.000000</td>\n",
              "      <td>0.665876</td>\n",
              "      <td>0.641221</td>\n",
              "      <td>0.633496</td>\n",
              "      <td>0.268096</td>\n",
              "      <td>0.568624</td>\n",
              "      <td>0.361723</td>\n",
              "      <td>0.602148</td>\n",
              "      <td>0.619832</td>\n",
              "      <td>0.625034</td>\n",
              "    </tr>\n",
              "    <tr>\n",
              "      <th>립컬러</th>\n",
              "      <td>0.665876</td>\n",
              "      <td>1.000000</td>\n",
              "      <td>0.702688</td>\n",
              "      <td>0.696861</td>\n",
              "      <td>0.272874</td>\n",
              "      <td>0.636336</td>\n",
              "      <td>0.376789</td>\n",
              "      <td>0.654483</td>\n",
              "      <td>0.679829</td>\n",
              "      <td>0.691434</td>\n",
              "    </tr>\n",
              "    <tr>\n",
              "      <th>립케어</th>\n",
              "      <td>0.641221</td>\n",
              "      <td>0.702688</td>\n",
              "      <td>1.000000</td>\n",
              "      <td>0.668609</td>\n",
              "      <td>0.263598</td>\n",
              "      <td>0.620537</td>\n",
              "      <td>0.353243</td>\n",
              "      <td>0.624909</td>\n",
              "      <td>0.660051</td>\n",
              "      <td>0.667010</td>\n",
              "    </tr>\n",
              "    <tr>\n",
              "      <th>마스크팩</th>\n",
              "      <td>0.633496</td>\n",
              "      <td>0.696861</td>\n",
              "      <td>0.668609</td>\n",
              "      <td>1.000000</td>\n",
              "      <td>0.324052</td>\n",
              "      <td>0.594840</td>\n",
              "      <td>0.433504</td>\n",
              "      <td>0.648138</td>\n",
              "      <td>0.656914</td>\n",
              "      <td>0.664077</td>\n",
              "    </tr>\n",
              "    <tr>\n",
              "      <th>바디로션</th>\n",
              "      <td>0.268096</td>\n",
              "      <td>0.272874</td>\n",
              "      <td>0.263598</td>\n",
              "      <td>0.324052</td>\n",
              "      <td>1.000000</td>\n",
              "      <td>0.251350</td>\n",
              "      <td>0.150086</td>\n",
              "      <td>0.240647</td>\n",
              "      <td>0.266883</td>\n",
              "      <td>0.282727</td>\n",
              "    </tr>\n",
              "    <tr>\n",
              "      <th>크림로션</th>\n",
              "      <td>0.568624</td>\n",
              "      <td>0.636336</td>\n",
              "      <td>0.620537</td>\n",
              "      <td>0.594840</td>\n",
              "      <td>0.251350</td>\n",
              "      <td>1.000000</td>\n",
              "      <td>0.336903</td>\n",
              "      <td>0.577517</td>\n",
              "      <td>0.592199</td>\n",
              "      <td>0.587775</td>\n",
              "    </tr>\n",
              "    <tr>\n",
              "      <th>훼이셜클렌저</th>\n",
              "      <td>0.361723</td>\n",
              "      <td>0.376789</td>\n",
              "      <td>0.353243</td>\n",
              "      <td>0.433504</td>\n",
              "      <td>0.150086</td>\n",
              "      <td>0.336903</td>\n",
              "      <td>1.000000</td>\n",
              "      <td>0.347526</td>\n",
              "      <td>0.365784</td>\n",
              "      <td>0.427517</td>\n",
              "    </tr>\n",
              "    <tr>\n",
              "      <th>선케어</th>\n",
              "      <td>0.602148</td>\n",
              "      <td>0.654483</td>\n",
              "      <td>0.624909</td>\n",
              "      <td>0.648138</td>\n",
              "      <td>0.240647</td>\n",
              "      <td>0.577517</td>\n",
              "      <td>0.347526</td>\n",
              "      <td>1.000000</td>\n",
              "      <td>0.620760</td>\n",
              "      <td>0.645575</td>\n",
              "    </tr>\n",
              "    <tr>\n",
              "      <th>체중조절</th>\n",
              "      <td>0.619832</td>\n",
              "      <td>0.679829</td>\n",
              "      <td>0.660051</td>\n",
              "      <td>0.656914</td>\n",
              "      <td>0.266883</td>\n",
              "      <td>0.592199</td>\n",
              "      <td>0.365784</td>\n",
              "      <td>0.620760</td>\n",
              "      <td>1.000000</td>\n",
              "      <td>0.652728</td>\n",
              "    </tr>\n",
              "    <tr>\n",
              "      <th>제모제</th>\n",
              "      <td>0.625034</td>\n",
              "      <td>0.691434</td>\n",
              "      <td>0.667010</td>\n",
              "      <td>0.664077</td>\n",
              "      <td>0.282727</td>\n",
              "      <td>0.587775</td>\n",
              "      <td>0.427517</td>\n",
              "      <td>0.645575</td>\n",
              "      <td>0.652728</td>\n",
              "      <td>1.000000</td>\n",
              "    </tr>\n",
              "  </tbody>\n",
              "</table>\n",
              "</div>"
            ],
            "text/plain": [
              "              네일       립컬러       립케어  ...       선케어      체중조절       제모제\n",
              "네일      1.000000  0.665876  0.641221  ...  0.602148  0.619832  0.625034\n",
              "립컬러     0.665876  1.000000  0.702688  ...  0.654483  0.679829  0.691434\n",
              "립케어     0.641221  0.702688  1.000000  ...  0.624909  0.660051  0.667010\n",
              "마스크팩    0.633496  0.696861  0.668609  ...  0.648138  0.656914  0.664077\n",
              "바디로션    0.268096  0.272874  0.263598  ...  0.240647  0.266883  0.282727\n",
              "크림로션    0.568624  0.636336  0.620537  ...  0.577517  0.592199  0.587775\n",
              "훼이셜클렌저  0.361723  0.376789  0.353243  ...  0.347526  0.365784  0.427517\n",
              "선케어     0.602148  0.654483  0.624909  ...  1.000000  0.620760  0.645575\n",
              "체중조절    0.619832  0.679829  0.660051  ...  0.620760  1.000000  0.652728\n",
              "제모제     0.625034  0.691434  0.667010  ...  0.645575  0.652728  1.000000\n",
              "\n",
              "[10 rows x 10 columns]"
            ]
          },
          "metadata": {
            "tags": []
          },
          "execution_count": 50
        }
      ]
    },
    {
      "cell_type": "code",
      "metadata": {
        "id": "F00GDtq0mE77",
        "colab_type": "code",
        "colab": {}
      },
      "source": [
        ""
      ],
      "execution_count": 0,
      "outputs": []
    },
    {
      "cell_type": "markdown",
      "metadata": {
        "id": "MeHu305TK1qS",
        "colab_type": "text"
      },
      "source": [
        "---\n",
        "# Temperature"
      ]
    },
    {
      "cell_type": "code",
      "metadata": {
        "id": "7suD9t_YA47z",
        "colab_type": "code",
        "colab": {}
      },
      "source": [
        "high_temp = [20180802.0, 20180801.0, 20180803.0, 20180731.0, 20180730.0, 20180815.0, 20180814.0, 20180729.0, 20180723.0, 20180724.0, 20180722.0, 20180804.0, 20180808.0, 20180727.0, 20180810.0, 20180807.0, 20180813.0, 20180811.0, 20180812.0, 20180806.0] \n",
        "low_temp = [20180203.0, 20181209.0, 20181229.0, 20180110.0, 20181230.0, 20181208.0, 20180129.0, 20180207.0, 20180205.0, 20180204.0, 20181227.0, 20180206.0, 20180112.0, 20181228.0, 20180127.0, 20180111.0, 20180123.0, 20180125.0, 20180124.0, 20180126.0]"
      ],
      "execution_count": 0,
      "outputs": []
    },
    {
      "cell_type": "code",
      "metadata": {
        "id": "98bRl_sarHPr",
        "colab_type": "code",
        "colab": {}
      },
      "source": [
        "high_temp = [str(i).split('.')[0] for i in high_temp]\n",
        "low_temp = [str(i).split('.')[0] for i in low_temp]"
      ],
      "execution_count": 0,
      "outputs": []
    },
    {
      "cell_type": "code",
      "metadata": {
        "id": "WzZAYH5TwFpG",
        "colab_type": "code",
        "colab": {
          "base_uri": "https://localhost:8080/",
          "height": 142
        },
        "outputId": "814c298b-b01a-4da6-fb19-8bdc04d56e1e"
      },
      "source": [
        "hnb.head(3)"
      ],
      "execution_count": 59,
      "outputs": [
        {
          "output_type": "execute_result",
          "data": {
            "text/html": [
              "<div>\n",
              "<style scoped>\n",
              "    .dataframe tbody tr th:only-of-type {\n",
              "        vertical-align: middle;\n",
              "    }\n",
              "\n",
              "    .dataframe tbody tr th {\n",
              "        vertical-align: top;\n",
              "    }\n",
              "\n",
              "    .dataframe thead th {\n",
              "        text-align: right;\n",
              "    }\n",
              "</style>\n",
              "<table border=\"1\" class=\"dataframe\">\n",
              "  <thead>\n",
              "    <tr style=\"text-align: right;\">\n",
              "      <th></th>\n",
              "      <th>sale_dt</th>\n",
              "      <th>segmentation</th>\n",
              "      <th>category</th>\n",
              "      <th>qty</th>\n",
              "    </tr>\n",
              "  </thead>\n",
              "  <tbody>\n",
              "    <tr>\n",
              "      <th>0</th>\n",
              "      <td>20160101</td>\n",
              "      <td>종로구 F 20~39</td>\n",
              "      <td>립컬러</td>\n",
              "      <td>73</td>\n",
              "    </tr>\n",
              "    <tr>\n",
              "      <th>1</th>\n",
              "      <td>20160101</td>\n",
              "      <td>종로구 F 20~39</td>\n",
              "      <td>립케어</td>\n",
              "      <td>219</td>\n",
              "    </tr>\n",
              "    <tr>\n",
              "      <th>2</th>\n",
              "      <td>20160101</td>\n",
              "      <td>종로구 F 20~39</td>\n",
              "      <td>마스크팩</td>\n",
              "      <td>657</td>\n",
              "    </tr>\n",
              "  </tbody>\n",
              "</table>\n",
              "</div>"
            ],
            "text/plain": [
              "    sale_dt segmentation category  qty\n",
              "0  20160101  종로구 F 20~39      립컬러   73\n",
              "1  20160101  종로구 F 20~39      립케어  219\n",
              "2  20160101  종로구 F 20~39     마스크팩  657"
            ]
          },
          "metadata": {
            "tags": []
          },
          "execution_count": 59
        }
      ]
    },
    {
      "cell_type": "code",
      "metadata": {
        "id": "lpJEkDPHv3TL",
        "colab_type": "code",
        "colab": {}
      },
      "source": [
        "high_temp_date = []\n",
        "\n",
        "for i in high_temp:\n",
        "  for j in hnb['sale_dt'] :\n",
        "    if i == str(j):\n",
        "      high_temp_date.append(True)\n",
        "    else:\n",
        "      high_temp_date.append(False)"
      ],
      "execution_count": 0,
      "outputs": []
    },
    {
      "cell_type": "code",
      "metadata": {
        "id": "u70Jsbw0wQGB",
        "colab_type": "code",
        "colab": {}
      },
      "source": [
        "low_temp_date = []\n",
        "\n",
        "for i in low_temp:\n",
        "  for j in hnb['sale_dt'] :\n",
        "    if i == str(j):\n",
        "      low_temp_date.append(True)\n",
        "    else:\n",
        "      low_temp_date.append(False)"
      ],
      "execution_count": 0,
      "outputs": []
    },
    {
      "cell_type": "code",
      "metadata": {
        "id": "pYNfbnp0rHLH",
        "colab_type": "code",
        "colab": {}
      },
      "source": [
        "high_temp = pd.DataFrame(high_temp_date,columns=['high_temp'])\n",
        "low_temp = pd.DataFrame(low_temp_date,columns=['low_temp'])"
      ],
      "execution_count": 0,
      "outputs": []
    },
    {
      "cell_type": "code",
      "metadata": {
        "id": "efkY2EaTrHIQ",
        "colab_type": "code",
        "colab": {}
      },
      "source": [
        "df_high_temp = pd.concat([hnb,high_temp],axis=1)\n",
        "\n",
        "df_low_temp = pd.concat([hnb,low_temp],axis=1)\n"
      ],
      "execution_count": 0,
      "outputs": []
    },
    {
      "cell_type": "code",
      "metadata": {
        "id": "MhkiUnmAxK0h",
        "colab_type": "code",
        "colab": {}
      },
      "source": [
        ""
      ],
      "execution_count": 0,
      "outputs": []
    },
    {
      "cell_type": "code",
      "metadata": {
        "id": "6_4jnGLZxCjx",
        "colab_type": "code",
        "colab": {
          "base_uri": "https://localhost:8080/",
          "height": 142
        },
        "outputId": "a6005fa6-5c91-462f-c7ed-46a99495153c"
      },
      "source": [
        "df_high_temp.head(3)"
      ],
      "execution_count": 68,
      "outputs": [
        {
          "output_type": "execute_result",
          "data": {
            "text/html": [
              "<div>\n",
              "<style scoped>\n",
              "    .dataframe tbody tr th:only-of-type {\n",
              "        vertical-align: middle;\n",
              "    }\n",
              "\n",
              "    .dataframe tbody tr th {\n",
              "        vertical-align: top;\n",
              "    }\n",
              "\n",
              "    .dataframe thead th {\n",
              "        text-align: right;\n",
              "    }\n",
              "</style>\n",
              "<table border=\"1\" class=\"dataframe\">\n",
              "  <thead>\n",
              "    <tr style=\"text-align: right;\">\n",
              "      <th></th>\n",
              "      <th>sale_dt</th>\n",
              "      <th>segmentation</th>\n",
              "      <th>category</th>\n",
              "      <th>qty</th>\n",
              "      <th>high_temp</th>\n",
              "    </tr>\n",
              "  </thead>\n",
              "  <tbody>\n",
              "    <tr>\n",
              "      <th>0</th>\n",
              "      <td>20160101.0</td>\n",
              "      <td>종로구 F 20~39</td>\n",
              "      <td>립컬러</td>\n",
              "      <td>73.0</td>\n",
              "      <td>False</td>\n",
              "    </tr>\n",
              "    <tr>\n",
              "      <th>1</th>\n",
              "      <td>20160101.0</td>\n",
              "      <td>종로구 F 20~39</td>\n",
              "      <td>립케어</td>\n",
              "      <td>219.0</td>\n",
              "      <td>False</td>\n",
              "    </tr>\n",
              "    <tr>\n",
              "      <th>2</th>\n",
              "      <td>20160101.0</td>\n",
              "      <td>종로구 F 20~39</td>\n",
              "      <td>마스크팩</td>\n",
              "      <td>657.0</td>\n",
              "      <td>False</td>\n",
              "    </tr>\n",
              "  </tbody>\n",
              "</table>\n",
              "</div>"
            ],
            "text/plain": [
              "      sale_dt segmentation category    qty  high_temp\n",
              "0  20160101.0  종로구 F 20~39      립컬러   73.0      False\n",
              "1  20160101.0  종로구 F 20~39      립케어  219.0      False\n",
              "2  20160101.0  종로구 F 20~39     마스크팩  657.0      False"
            ]
          },
          "metadata": {
            "tags": []
          },
          "execution_count": 68
        }
      ]
    },
    {
      "cell_type": "markdown",
      "metadata": {
        "id": "Pp7ZSWtvwkml",
        "colab_type": "text"
      },
      "source": [
        "## High Temperature"
      ]
    },
    {
      "cell_type": "code",
      "metadata": {
        "id": "xYe4QfKcrHD2",
        "colab_type": "code",
        "colab": {
          "base_uri": "https://localhost:8080/",
          "height": 142
        },
        "outputId": "d0caa25c-033c-40fa-b510-147b6ec019f1"
      },
      "source": [
        "df_high_temp = df_high_temp[df_high_temp['sale_dt'] > 20171231].iloc[:,[1,2,3]]\n",
        "\n",
        "df_high_temp.head(3)"
      ],
      "execution_count": 70,
      "outputs": [
        {
          "output_type": "execute_result",
          "data": {
            "text/html": [
              "<div>\n",
              "<style scoped>\n",
              "    .dataframe tbody tr th:only-of-type {\n",
              "        vertical-align: middle;\n",
              "    }\n",
              "\n",
              "    .dataframe tbody tr th {\n",
              "        vertical-align: top;\n",
              "    }\n",
              "\n",
              "    .dataframe thead th {\n",
              "        text-align: right;\n",
              "    }\n",
              "</style>\n",
              "<table border=\"1\" class=\"dataframe\">\n",
              "  <thead>\n",
              "    <tr style=\"text-align: right;\">\n",
              "      <th></th>\n",
              "      <th>segmentation</th>\n",
              "      <th>category</th>\n",
              "      <th>qty</th>\n",
              "    </tr>\n",
              "  </thead>\n",
              "  <tbody>\n",
              "    <tr>\n",
              "      <th>547246</th>\n",
              "      <td>종로구 F 20~39</td>\n",
              "      <td>네일</td>\n",
              "      <td>36.0</td>\n",
              "    </tr>\n",
              "    <tr>\n",
              "      <th>547247</th>\n",
              "      <td>종로구 F 20~39</td>\n",
              "      <td>립컬러</td>\n",
              "      <td>182.0</td>\n",
              "    </tr>\n",
              "    <tr>\n",
              "      <th>547248</th>\n",
              "      <td>종로구 F 20~39</td>\n",
              "      <td>립케어</td>\n",
              "      <td>146.0</td>\n",
              "    </tr>\n",
              "  </tbody>\n",
              "</table>\n",
              "</div>"
            ],
            "text/plain": [
              "       segmentation category    qty\n",
              "547246  종로구 F 20~39       네일   36.0\n",
              "547247  종로구 F 20~39      립컬러  182.0\n",
              "547248  종로구 F 20~39      립케어  146.0"
            ]
          },
          "metadata": {
            "tags": []
          },
          "execution_count": 70
        }
      ]
    },
    {
      "cell_type": "code",
      "metadata": {
        "id": "dad1IGa2rHCO",
        "colab_type": "code",
        "colab": {
          "base_uri": "https://localhost:8080/",
          "height": 85
        },
        "outputId": "e5fdd670-6452-495d-f8e9-91c234febb44"
      },
      "source": [
        "surprise_df_high_temp = surprise.Dataset.load_from_df(df_high_temp,reader)\n",
        "\n",
        "trainset, testset = train_test_split(surprise_df_high_temp, test_size=0.25,shuffle=True,random_state=42)\n",
        "\n",
        "algo_knn.fit(trainset)\n",
        "\n",
        "sim_knn = algo_knn.compute_similarities()\n",
        "\n",
        "knn_high_temp = pd.DataFrame(sim_knn)"
      ],
      "execution_count": 71,
      "outputs": [
        {
          "output_type": "stream",
          "text": [
            "Computing the cosine similarity matrix...\n",
            "Done computing similarity matrix.\n",
            "Computing the cosine similarity matrix...\n",
            "Done computing similarity matrix.\n"
          ],
          "name": "stdout"
        }
      ]
    },
    {
      "cell_type": "code",
      "metadata": {
        "id": "B_fKkeSArHG7",
        "colab_type": "code",
        "colab": {
          "base_uri": "https://localhost:8080/",
          "height": 359
        },
        "outputId": "8639521b-f473-406f-ddb6-abbdd44d1582"
      },
      "source": [
        "knn_high_temp.columns = label\n",
        "knn_high_temp.index  = label\n",
        "knn_high_temp"
      ],
      "execution_count": 72,
      "outputs": [
        {
          "output_type": "execute_result",
          "data": {
            "text/html": [
              "<div>\n",
              "<style scoped>\n",
              "    .dataframe tbody tr th:only-of-type {\n",
              "        vertical-align: middle;\n",
              "    }\n",
              "\n",
              "    .dataframe tbody tr th {\n",
              "        vertical-align: top;\n",
              "    }\n",
              "\n",
              "    .dataframe thead th {\n",
              "        text-align: right;\n",
              "    }\n",
              "</style>\n",
              "<table border=\"1\" class=\"dataframe\">\n",
              "  <thead>\n",
              "    <tr style=\"text-align: right;\">\n",
              "      <th></th>\n",
              "      <th>립컬러</th>\n",
              "      <th>립케어</th>\n",
              "      <th>마스크팩</th>\n",
              "      <th>바디로션</th>\n",
              "      <th>체중조절</th>\n",
              "      <th>크림로션</th>\n",
              "      <th>훼이셜클렌저</th>\n",
              "      <th>선케어</th>\n",
              "      <th>네일</th>\n",
              "      <th>제모제</th>\n",
              "    </tr>\n",
              "  </thead>\n",
              "  <tbody>\n",
              "    <tr>\n",
              "      <th>립컬러</th>\n",
              "      <td>1.000000</td>\n",
              "      <td>0.664921</td>\n",
              "      <td>0.643559</td>\n",
              "      <td>0.238465</td>\n",
              "      <td>0.659707</td>\n",
              "      <td>0.592407</td>\n",
              "      <td>0.355878</td>\n",
              "      <td>0.662026</td>\n",
              "      <td>0.636501</td>\n",
              "      <td>0.588104</td>\n",
              "    </tr>\n",
              "    <tr>\n",
              "      <th>립케어</th>\n",
              "      <td>0.664921</td>\n",
              "      <td>1.000000</td>\n",
              "      <td>0.713106</td>\n",
              "      <td>0.257057</td>\n",
              "      <td>0.688223</td>\n",
              "      <td>0.638834</td>\n",
              "      <td>0.379716</td>\n",
              "      <td>0.693543</td>\n",
              "      <td>0.684011</td>\n",
              "      <td>0.639963</td>\n",
              "    </tr>\n",
              "    <tr>\n",
              "      <th>마스크팩</th>\n",
              "      <td>0.643559</td>\n",
              "      <td>0.713106</td>\n",
              "      <td>1.000000</td>\n",
              "      <td>0.253543</td>\n",
              "      <td>0.664514</td>\n",
              "      <td>0.630598</td>\n",
              "      <td>0.346448</td>\n",
              "      <td>0.667235</td>\n",
              "      <td>0.674724</td>\n",
              "      <td>0.624454</td>\n",
              "    </tr>\n",
              "    <tr>\n",
              "      <th>바디로션</th>\n",
              "      <td>0.238465</td>\n",
              "      <td>0.257057</td>\n",
              "      <td>0.253543</td>\n",
              "      <td>1.000000</td>\n",
              "      <td>0.268775</td>\n",
              "      <td>0.238056</td>\n",
              "      <td>0.142744</td>\n",
              "      <td>0.307534</td>\n",
              "      <td>0.254225</td>\n",
              "      <td>0.249026</td>\n",
              "    </tr>\n",
              "    <tr>\n",
              "      <th>체중조절</th>\n",
              "      <td>0.659707</td>\n",
              "      <td>0.688223</td>\n",
              "      <td>0.664514</td>\n",
              "      <td>0.268775</td>\n",
              "      <td>1.000000</td>\n",
              "      <td>0.590326</td>\n",
              "      <td>0.444549</td>\n",
              "      <td>0.662253</td>\n",
              "      <td>0.651469</td>\n",
              "      <td>0.605625</td>\n",
              "    </tr>\n",
              "    <tr>\n",
              "      <th>크림로션</th>\n",
              "      <td>0.592407</td>\n",
              "      <td>0.638834</td>\n",
              "      <td>0.630598</td>\n",
              "      <td>0.238056</td>\n",
              "      <td>0.590326</td>\n",
              "      <td>1.000000</td>\n",
              "      <td>0.341750</td>\n",
              "      <td>0.597183</td>\n",
              "      <td>0.597022</td>\n",
              "      <td>0.553823</td>\n",
              "    </tr>\n",
              "    <tr>\n",
              "      <th>훼이셜클렌저</th>\n",
              "      <td>0.355878</td>\n",
              "      <td>0.379716</td>\n",
              "      <td>0.346448</td>\n",
              "      <td>0.142744</td>\n",
              "      <td>0.444549</td>\n",
              "      <td>0.341750</td>\n",
              "      <td>1.000000</td>\n",
              "      <td>0.469625</td>\n",
              "      <td>0.377184</td>\n",
              "      <td>0.362418</td>\n",
              "    </tr>\n",
              "    <tr>\n",
              "      <th>선케어</th>\n",
              "      <td>0.662026</td>\n",
              "      <td>0.693543</td>\n",
              "      <td>0.667235</td>\n",
              "      <td>0.307534</td>\n",
              "      <td>0.662253</td>\n",
              "      <td>0.597183</td>\n",
              "      <td>0.469625</td>\n",
              "      <td>1.000000</td>\n",
              "      <td>0.656006</td>\n",
              "      <td>0.619704</td>\n",
              "    </tr>\n",
              "    <tr>\n",
              "      <th>네일</th>\n",
              "      <td>0.636501</td>\n",
              "      <td>0.684011</td>\n",
              "      <td>0.674724</td>\n",
              "      <td>0.254225</td>\n",
              "      <td>0.651469</td>\n",
              "      <td>0.597022</td>\n",
              "      <td>0.377184</td>\n",
              "      <td>0.656006</td>\n",
              "      <td>1.000000</td>\n",
              "      <td>0.604430</td>\n",
              "    </tr>\n",
              "    <tr>\n",
              "      <th>제모제</th>\n",
              "      <td>0.588104</td>\n",
              "      <td>0.639963</td>\n",
              "      <td>0.624454</td>\n",
              "      <td>0.249026</td>\n",
              "      <td>0.605625</td>\n",
              "      <td>0.553823</td>\n",
              "      <td>0.362418</td>\n",
              "      <td>0.619704</td>\n",
              "      <td>0.604430</td>\n",
              "      <td>1.000000</td>\n",
              "    </tr>\n",
              "  </tbody>\n",
              "</table>\n",
              "</div>"
            ],
            "text/plain": [
              "             립컬러       립케어      마스크팩  ...       선케어        네일       제모제\n",
              "립컬러     1.000000  0.664921  0.643559  ...  0.662026  0.636501  0.588104\n",
              "립케어     0.664921  1.000000  0.713106  ...  0.693543  0.684011  0.639963\n",
              "마스크팩    0.643559  0.713106  1.000000  ...  0.667235  0.674724  0.624454\n",
              "바디로션    0.238465  0.257057  0.253543  ...  0.307534  0.254225  0.249026\n",
              "체중조절    0.659707  0.688223  0.664514  ...  0.662253  0.651469  0.605625\n",
              "크림로션    0.592407  0.638834  0.630598  ...  0.597183  0.597022  0.553823\n",
              "훼이셜클렌저  0.355878  0.379716  0.346448  ...  0.469625  0.377184  0.362418\n",
              "선케어     0.662026  0.693543  0.667235  ...  1.000000  0.656006  0.619704\n",
              "네일      0.636501  0.684011  0.674724  ...  0.656006  1.000000  0.604430\n",
              "제모제     0.588104  0.639963  0.624454  ...  0.619704  0.604430  1.000000\n",
              "\n",
              "[10 rows x 10 columns]"
            ]
          },
          "metadata": {
            "tags": []
          },
          "execution_count": 72
        }
      ]
    },
    {
      "cell_type": "markdown",
      "metadata": {
        "id": "5U7Jkp9BxjIs",
        "colab_type": "text"
      },
      "source": [
        "## Lower Temperature"
      ]
    },
    {
      "cell_type": "code",
      "metadata": {
        "id": "YJFhG4ulrHAb",
        "colab_type": "code",
        "colab": {
          "base_uri": "https://localhost:8080/",
          "height": 142
        },
        "outputId": "4e9dc7cb-7fbe-4577-c8e1-dc6befa8ea7d"
      },
      "source": [
        "df_low_temp = df_low_temp[df_low_temp['sale_dt'] > 20171231].iloc[:,[1,2,3]]\n",
        "\n",
        "df_low_temp.head(3)"
      ],
      "execution_count": 73,
      "outputs": [
        {
          "output_type": "execute_result",
          "data": {
            "text/html": [
              "<div>\n",
              "<style scoped>\n",
              "    .dataframe tbody tr th:only-of-type {\n",
              "        vertical-align: middle;\n",
              "    }\n",
              "\n",
              "    .dataframe tbody tr th {\n",
              "        vertical-align: top;\n",
              "    }\n",
              "\n",
              "    .dataframe thead th {\n",
              "        text-align: right;\n",
              "    }\n",
              "</style>\n",
              "<table border=\"1\" class=\"dataframe\">\n",
              "  <thead>\n",
              "    <tr style=\"text-align: right;\">\n",
              "      <th></th>\n",
              "      <th>segmentation</th>\n",
              "      <th>category</th>\n",
              "      <th>qty</th>\n",
              "    </tr>\n",
              "  </thead>\n",
              "  <tbody>\n",
              "    <tr>\n",
              "      <th>547246</th>\n",
              "      <td>종로구 F 20~39</td>\n",
              "      <td>네일</td>\n",
              "      <td>36.0</td>\n",
              "    </tr>\n",
              "    <tr>\n",
              "      <th>547247</th>\n",
              "      <td>종로구 F 20~39</td>\n",
              "      <td>립컬러</td>\n",
              "      <td>182.0</td>\n",
              "    </tr>\n",
              "    <tr>\n",
              "      <th>547248</th>\n",
              "      <td>종로구 F 20~39</td>\n",
              "      <td>립케어</td>\n",
              "      <td>146.0</td>\n",
              "    </tr>\n",
              "  </tbody>\n",
              "</table>\n",
              "</div>"
            ],
            "text/plain": [
              "       segmentation category    qty\n",
              "547246  종로구 F 20~39       네일   36.0\n",
              "547247  종로구 F 20~39      립컬러  182.0\n",
              "547248  종로구 F 20~39      립케어  146.0"
            ]
          },
          "metadata": {
            "tags": []
          },
          "execution_count": 73
        }
      ]
    },
    {
      "cell_type": "code",
      "metadata": {
        "id": "5bmA06c9rG-o",
        "colab_type": "code",
        "colab": {
          "base_uri": "https://localhost:8080/",
          "height": 85
        },
        "outputId": "d4ac1b70-508a-4e1a-ab28-8c0eae5874ec"
      },
      "source": [
        "surprise_df_low_temp = surprise.Dataset.load_from_df(df_low_temp,reader)\n",
        "\n",
        "trainset, testset = train_test_split(surprise_df_low_temp, test_size=0.25,shuffle=True,random_state=42)\n",
        "\n",
        "algo_knn.fit(trainset)\n",
        "\n",
        "sim_knn = algo_knn.compute_similarities()\n",
        "\n",
        "knn_low_temp = pd.DataFrame(sim_knn)"
      ],
      "execution_count": 74,
      "outputs": [
        {
          "output_type": "stream",
          "text": [
            "Computing the cosine similarity matrix...\n",
            "Done computing similarity matrix.\n",
            "Computing the cosine similarity matrix...\n",
            "Done computing similarity matrix.\n"
          ],
          "name": "stdout"
        }
      ]
    },
    {
      "cell_type": "code",
      "metadata": {
        "id": "nNvty7tDrGdF",
        "colab_type": "code",
        "colab": {
          "base_uri": "https://localhost:8080/",
          "height": 359
        },
        "outputId": "a5fb29a3-82d1-4eb8-b574-2b70009ea6a3"
      },
      "source": [
        "knn_low_temp.columns = label\n",
        "knn_low_temp.index  = label\n",
        "knn_low_temp"
      ],
      "execution_count": 75,
      "outputs": [
        {
          "output_type": "execute_result",
          "data": {
            "text/html": [
              "<div>\n",
              "<style scoped>\n",
              "    .dataframe tbody tr th:only-of-type {\n",
              "        vertical-align: middle;\n",
              "    }\n",
              "\n",
              "    .dataframe tbody tr th {\n",
              "        vertical-align: top;\n",
              "    }\n",
              "\n",
              "    .dataframe thead th {\n",
              "        text-align: right;\n",
              "    }\n",
              "</style>\n",
              "<table border=\"1\" class=\"dataframe\">\n",
              "  <thead>\n",
              "    <tr style=\"text-align: right;\">\n",
              "      <th></th>\n",
              "      <th>립컬러</th>\n",
              "      <th>립케어</th>\n",
              "      <th>마스크팩</th>\n",
              "      <th>바디로션</th>\n",
              "      <th>체중조절</th>\n",
              "      <th>크림로션</th>\n",
              "      <th>훼이셜클렌저</th>\n",
              "      <th>선케어</th>\n",
              "      <th>네일</th>\n",
              "      <th>제모제</th>\n",
              "    </tr>\n",
              "  </thead>\n",
              "  <tbody>\n",
              "    <tr>\n",
              "      <th>립컬러</th>\n",
              "      <td>1.000000</td>\n",
              "      <td>0.664921</td>\n",
              "      <td>0.643559</td>\n",
              "      <td>0.238465</td>\n",
              "      <td>0.659707</td>\n",
              "      <td>0.592407</td>\n",
              "      <td>0.355878</td>\n",
              "      <td>0.662026</td>\n",
              "      <td>0.636501</td>\n",
              "      <td>0.588104</td>\n",
              "    </tr>\n",
              "    <tr>\n",
              "      <th>립케어</th>\n",
              "      <td>0.664921</td>\n",
              "      <td>1.000000</td>\n",
              "      <td>0.713106</td>\n",
              "      <td>0.257057</td>\n",
              "      <td>0.688223</td>\n",
              "      <td>0.638834</td>\n",
              "      <td>0.379716</td>\n",
              "      <td>0.693543</td>\n",
              "      <td>0.684011</td>\n",
              "      <td>0.639963</td>\n",
              "    </tr>\n",
              "    <tr>\n",
              "      <th>마스크팩</th>\n",
              "      <td>0.643559</td>\n",
              "      <td>0.713106</td>\n",
              "      <td>1.000000</td>\n",
              "      <td>0.253543</td>\n",
              "      <td>0.664514</td>\n",
              "      <td>0.630598</td>\n",
              "      <td>0.346448</td>\n",
              "      <td>0.667235</td>\n",
              "      <td>0.674724</td>\n",
              "      <td>0.624454</td>\n",
              "    </tr>\n",
              "    <tr>\n",
              "      <th>바디로션</th>\n",
              "      <td>0.238465</td>\n",
              "      <td>0.257057</td>\n",
              "      <td>0.253543</td>\n",
              "      <td>1.000000</td>\n",
              "      <td>0.268775</td>\n",
              "      <td>0.238056</td>\n",
              "      <td>0.142744</td>\n",
              "      <td>0.307534</td>\n",
              "      <td>0.254225</td>\n",
              "      <td>0.249026</td>\n",
              "    </tr>\n",
              "    <tr>\n",
              "      <th>체중조절</th>\n",
              "      <td>0.659707</td>\n",
              "      <td>0.688223</td>\n",
              "      <td>0.664514</td>\n",
              "      <td>0.268775</td>\n",
              "      <td>1.000000</td>\n",
              "      <td>0.590326</td>\n",
              "      <td>0.444549</td>\n",
              "      <td>0.662253</td>\n",
              "      <td>0.651469</td>\n",
              "      <td>0.605625</td>\n",
              "    </tr>\n",
              "    <tr>\n",
              "      <th>크림로션</th>\n",
              "      <td>0.592407</td>\n",
              "      <td>0.638834</td>\n",
              "      <td>0.630598</td>\n",
              "      <td>0.238056</td>\n",
              "      <td>0.590326</td>\n",
              "      <td>1.000000</td>\n",
              "      <td>0.341750</td>\n",
              "      <td>0.597183</td>\n",
              "      <td>0.597022</td>\n",
              "      <td>0.553823</td>\n",
              "    </tr>\n",
              "    <tr>\n",
              "      <th>훼이셜클렌저</th>\n",
              "      <td>0.355878</td>\n",
              "      <td>0.379716</td>\n",
              "      <td>0.346448</td>\n",
              "      <td>0.142744</td>\n",
              "      <td>0.444549</td>\n",
              "      <td>0.341750</td>\n",
              "      <td>1.000000</td>\n",
              "      <td>0.469625</td>\n",
              "      <td>0.377184</td>\n",
              "      <td>0.362418</td>\n",
              "    </tr>\n",
              "    <tr>\n",
              "      <th>선케어</th>\n",
              "      <td>0.662026</td>\n",
              "      <td>0.693543</td>\n",
              "      <td>0.667235</td>\n",
              "      <td>0.307534</td>\n",
              "      <td>0.662253</td>\n",
              "      <td>0.597183</td>\n",
              "      <td>0.469625</td>\n",
              "      <td>1.000000</td>\n",
              "      <td>0.656006</td>\n",
              "      <td>0.619704</td>\n",
              "    </tr>\n",
              "    <tr>\n",
              "      <th>네일</th>\n",
              "      <td>0.636501</td>\n",
              "      <td>0.684011</td>\n",
              "      <td>0.674724</td>\n",
              "      <td>0.254225</td>\n",
              "      <td>0.651469</td>\n",
              "      <td>0.597022</td>\n",
              "      <td>0.377184</td>\n",
              "      <td>0.656006</td>\n",
              "      <td>1.000000</td>\n",
              "      <td>0.604430</td>\n",
              "    </tr>\n",
              "    <tr>\n",
              "      <th>제모제</th>\n",
              "      <td>0.588104</td>\n",
              "      <td>0.639963</td>\n",
              "      <td>0.624454</td>\n",
              "      <td>0.249026</td>\n",
              "      <td>0.605625</td>\n",
              "      <td>0.553823</td>\n",
              "      <td>0.362418</td>\n",
              "      <td>0.619704</td>\n",
              "      <td>0.604430</td>\n",
              "      <td>1.000000</td>\n",
              "    </tr>\n",
              "  </tbody>\n",
              "</table>\n",
              "</div>"
            ],
            "text/plain": [
              "             립컬러       립케어      마스크팩  ...       선케어        네일       제모제\n",
              "립컬러     1.000000  0.664921  0.643559  ...  0.662026  0.636501  0.588104\n",
              "립케어     0.664921  1.000000  0.713106  ...  0.693543  0.684011  0.639963\n",
              "마스크팩    0.643559  0.713106  1.000000  ...  0.667235  0.674724  0.624454\n",
              "바디로션    0.238465  0.257057  0.253543  ...  0.307534  0.254225  0.249026\n",
              "체중조절    0.659707  0.688223  0.664514  ...  0.662253  0.651469  0.605625\n",
              "크림로션    0.592407  0.638834  0.630598  ...  0.597183  0.597022  0.553823\n",
              "훼이셜클렌저  0.355878  0.379716  0.346448  ...  0.469625  0.377184  0.362418\n",
              "선케어     0.662026  0.693543  0.667235  ...  1.000000  0.656006  0.619704\n",
              "네일      0.636501  0.684011  0.674724  ...  0.656006  1.000000  0.604430\n",
              "제모제     0.588104  0.639963  0.624454  ...  0.619704  0.604430  1.000000\n",
              "\n",
              "[10 rows x 10 columns]"
            ]
          },
          "metadata": {
            "tags": []
          },
          "execution_count": 75
        }
      ]
    },
    {
      "cell_type": "markdown",
      "metadata": {
        "id": "FB5Dh_wuFAMH",
        "colab_type": "text"
      },
      "source": [
        "---\n",
        "# Humid"
      ]
    },
    {
      "cell_type": "code",
      "metadata": {
        "id": "e5hSZvHIKFRB",
        "colab_type": "code",
        "colab": {}
      },
      "source": [
        "upper_humid = [20180517.0, 20180701.0, 20180828.0, 20180702.0, 20181108.0, 20180516.0, 20180827.0, 20180315.0, 20180423.0, 20180512.0, 20181203.0, 20180921.0, 20180626.0, 20180824.0, 20180502.0, 20180710.0, 20180405.0, 20180829.0, 20180304.0, 20180506.0] \n",
        "lower_humid = [20180128.0, 20181128.0, 20181226.0, 20180205.0, 20180206.0, 20180412.0, 20180126.0, 20181228.0, 20181208.0, 20181207.0, 20181209.0, 20180125.0, 20180221.0, 20180218.0, 20180124.0, 20181229.0, 20180215.0, 20180413.0, 20180217.0, 20181227.0]"
      ],
      "execution_count": 0,
      "outputs": []
    },
    {
      "cell_type": "code",
      "metadata": {
        "id": "fvZW6oteJ93F",
        "colab_type": "code",
        "colab": {}
      },
      "source": [
        "upper_humid = [str(i).split('.')[0] for i in upper_humid]\n",
        "lower_humid = [str(i).split('.')[0] for i in lower_humid]"
      ],
      "execution_count": 0,
      "outputs": []
    },
    {
      "cell_type": "code",
      "metadata": {
        "id": "bixBO5PCy2BI",
        "colab_type": "code",
        "colab": {}
      },
      "source": [
        "upper_humid_date = []\n",
        "\n",
        "for i in upper_humid:\n",
        "  for j in hnb['sale_dt'] :\n",
        "    if i == str(j):\n",
        "      upper_humid_date.append(True)\n",
        "    else:\n",
        "      upper_humid_date.append(False)"
      ],
      "execution_count": 0,
      "outputs": []
    },
    {
      "cell_type": "code",
      "metadata": {
        "id": "2lPcp1cmy_J7",
        "colab_type": "code",
        "colab": {}
      },
      "source": [
        "lower_humid_date = []\n",
        "\n",
        "for i in lower_humid:\n",
        "  for j in hnb['sale_dt'] :\n",
        "    if i == str(j):\n",
        "      lower_humid_date.append(True)\n",
        "    else:\n",
        "      lower_humid_date.append(False)"
      ],
      "execution_count": 0,
      "outputs": []
    },
    {
      "cell_type": "code",
      "metadata": {
        "id": "gfJon8yjzFQa",
        "colab_type": "code",
        "colab": {}
      },
      "source": [
        "upper_humid = pd.DataFrame(upper_humid_date,columns=['upper_humid'])\n",
        "lower_humid = pd.DataFrame(lower_humid_date,columns=['lower_humid'])"
      ],
      "execution_count": 0,
      "outputs": []
    },
    {
      "cell_type": "code",
      "metadata": {
        "id": "bdd57OFYzFOP",
        "colab_type": "code",
        "colab": {}
      },
      "source": [
        "df_upper_humid= pd.concat([hnb,upper_humid],axis=1)\n",
        "\n",
        "df_lower_humid = pd.concat([hnb,lower_humid],axis=1)\n"
      ],
      "execution_count": 0,
      "outputs": []
    },
    {
      "cell_type": "markdown",
      "metadata": {
        "id": "OM9Y4pmZzcyh",
        "colab_type": "text"
      },
      "source": [
        "## Upper Humid"
      ]
    },
    {
      "cell_type": "code",
      "metadata": {
        "id": "TdpIr-QszcZ6",
        "colab_type": "code",
        "colab": {
          "base_uri": "https://localhost:8080/",
          "height": 142
        },
        "outputId": "d5841e79-dd9a-4749-fe10-5eb4f3aa3379"
      },
      "source": [
        "df_upper_humid = df_upper_humid[df_upper_humid['sale_dt'] > 20171231].iloc[:,[1,2,3]]\n",
        "\n",
        "df_upper_humid.head(3)"
      ],
      "execution_count": 82,
      "outputs": [
        {
          "output_type": "execute_result",
          "data": {
            "text/html": [
              "<div>\n",
              "<style scoped>\n",
              "    .dataframe tbody tr th:only-of-type {\n",
              "        vertical-align: middle;\n",
              "    }\n",
              "\n",
              "    .dataframe tbody tr th {\n",
              "        vertical-align: top;\n",
              "    }\n",
              "\n",
              "    .dataframe thead th {\n",
              "        text-align: right;\n",
              "    }\n",
              "</style>\n",
              "<table border=\"1\" class=\"dataframe\">\n",
              "  <thead>\n",
              "    <tr style=\"text-align: right;\">\n",
              "      <th></th>\n",
              "      <th>segmentation</th>\n",
              "      <th>category</th>\n",
              "      <th>qty</th>\n",
              "    </tr>\n",
              "  </thead>\n",
              "  <tbody>\n",
              "    <tr>\n",
              "      <th>547246</th>\n",
              "      <td>종로구 F 20~39</td>\n",
              "      <td>네일</td>\n",
              "      <td>36.0</td>\n",
              "    </tr>\n",
              "    <tr>\n",
              "      <th>547247</th>\n",
              "      <td>종로구 F 20~39</td>\n",
              "      <td>립컬러</td>\n",
              "      <td>182.0</td>\n",
              "    </tr>\n",
              "    <tr>\n",
              "      <th>547248</th>\n",
              "      <td>종로구 F 20~39</td>\n",
              "      <td>립케어</td>\n",
              "      <td>146.0</td>\n",
              "    </tr>\n",
              "  </tbody>\n",
              "</table>\n",
              "</div>"
            ],
            "text/plain": [
              "       segmentation category    qty\n",
              "547246  종로구 F 20~39       네일   36.0\n",
              "547247  종로구 F 20~39      립컬러  182.0\n",
              "547248  종로구 F 20~39      립케어  146.0"
            ]
          },
          "metadata": {
            "tags": []
          },
          "execution_count": 82
        }
      ]
    },
    {
      "cell_type": "code",
      "metadata": {
        "id": "0HS7_2bezFML",
        "colab_type": "code",
        "colab": {
          "base_uri": "https://localhost:8080/",
          "height": 85
        },
        "outputId": "fbe656c6-891c-4713-b931-fa4f3b3ef27d"
      },
      "source": [
        "surprise_df_upper_humid = surprise.Dataset.load_from_df(df_upper_humid,reader)\n",
        "\n",
        "trainset, testset = train_test_split(surprise_df_upper_humid, test_size=0.25,shuffle=True,random_state=42)\n",
        "\n",
        "algo_knn.fit(trainset)\n",
        "\n",
        "sim_knn = algo_knn.compute_similarities()\n",
        "\n",
        "knn_upper_humid = pd.DataFrame(sim_knn)"
      ],
      "execution_count": 83,
      "outputs": [
        {
          "output_type": "stream",
          "text": [
            "Computing the cosine similarity matrix...\n",
            "Done computing similarity matrix.\n",
            "Computing the cosine similarity matrix...\n",
            "Done computing similarity matrix.\n"
          ],
          "name": "stdout"
        }
      ]
    },
    {
      "cell_type": "code",
      "metadata": {
        "id": "GRRbpkvVzFJ-",
        "colab_type": "code",
        "colab": {
          "base_uri": "https://localhost:8080/",
          "height": 359
        },
        "outputId": "8b43aef9-9658-48f0-cf92-e1057203e278"
      },
      "source": [
        "knn_upper_humid.columns = label\n",
        "knn_upper_humid.index  = label\n",
        "knn_upper_humid"
      ],
      "execution_count": 84,
      "outputs": [
        {
          "output_type": "execute_result",
          "data": {
            "text/html": [
              "<div>\n",
              "<style scoped>\n",
              "    .dataframe tbody tr th:only-of-type {\n",
              "        vertical-align: middle;\n",
              "    }\n",
              "\n",
              "    .dataframe tbody tr th {\n",
              "        vertical-align: top;\n",
              "    }\n",
              "\n",
              "    .dataframe thead th {\n",
              "        text-align: right;\n",
              "    }\n",
              "</style>\n",
              "<table border=\"1\" class=\"dataframe\">\n",
              "  <thead>\n",
              "    <tr style=\"text-align: right;\">\n",
              "      <th></th>\n",
              "      <th>립컬러</th>\n",
              "      <th>립케어</th>\n",
              "      <th>마스크팩</th>\n",
              "      <th>바디로션</th>\n",
              "      <th>체중조절</th>\n",
              "      <th>크림로션</th>\n",
              "      <th>훼이셜클렌저</th>\n",
              "      <th>선케어</th>\n",
              "      <th>네일</th>\n",
              "      <th>제모제</th>\n",
              "    </tr>\n",
              "  </thead>\n",
              "  <tbody>\n",
              "    <tr>\n",
              "      <th>립컬러</th>\n",
              "      <td>1.000000</td>\n",
              "      <td>0.664921</td>\n",
              "      <td>0.643559</td>\n",
              "      <td>0.238465</td>\n",
              "      <td>0.659707</td>\n",
              "      <td>0.592407</td>\n",
              "      <td>0.355878</td>\n",
              "      <td>0.662026</td>\n",
              "      <td>0.636501</td>\n",
              "      <td>0.588104</td>\n",
              "    </tr>\n",
              "    <tr>\n",
              "      <th>립케어</th>\n",
              "      <td>0.664921</td>\n",
              "      <td>1.000000</td>\n",
              "      <td>0.713106</td>\n",
              "      <td>0.257057</td>\n",
              "      <td>0.688223</td>\n",
              "      <td>0.638834</td>\n",
              "      <td>0.379716</td>\n",
              "      <td>0.693543</td>\n",
              "      <td>0.684011</td>\n",
              "      <td>0.639963</td>\n",
              "    </tr>\n",
              "    <tr>\n",
              "      <th>마스크팩</th>\n",
              "      <td>0.643559</td>\n",
              "      <td>0.713106</td>\n",
              "      <td>1.000000</td>\n",
              "      <td>0.253543</td>\n",
              "      <td>0.664514</td>\n",
              "      <td>0.630598</td>\n",
              "      <td>0.346448</td>\n",
              "      <td>0.667235</td>\n",
              "      <td>0.674724</td>\n",
              "      <td>0.624454</td>\n",
              "    </tr>\n",
              "    <tr>\n",
              "      <th>바디로션</th>\n",
              "      <td>0.238465</td>\n",
              "      <td>0.257057</td>\n",
              "      <td>0.253543</td>\n",
              "      <td>1.000000</td>\n",
              "      <td>0.268775</td>\n",
              "      <td>0.238056</td>\n",
              "      <td>0.142744</td>\n",
              "      <td>0.307534</td>\n",
              "      <td>0.254225</td>\n",
              "      <td>0.249026</td>\n",
              "    </tr>\n",
              "    <tr>\n",
              "      <th>체중조절</th>\n",
              "      <td>0.659707</td>\n",
              "      <td>0.688223</td>\n",
              "      <td>0.664514</td>\n",
              "      <td>0.268775</td>\n",
              "      <td>1.000000</td>\n",
              "      <td>0.590326</td>\n",
              "      <td>0.444549</td>\n",
              "      <td>0.662253</td>\n",
              "      <td>0.651469</td>\n",
              "      <td>0.605625</td>\n",
              "    </tr>\n",
              "    <tr>\n",
              "      <th>크림로션</th>\n",
              "      <td>0.592407</td>\n",
              "      <td>0.638834</td>\n",
              "      <td>0.630598</td>\n",
              "      <td>0.238056</td>\n",
              "      <td>0.590326</td>\n",
              "      <td>1.000000</td>\n",
              "      <td>0.341750</td>\n",
              "      <td>0.597183</td>\n",
              "      <td>0.597022</td>\n",
              "      <td>0.553823</td>\n",
              "    </tr>\n",
              "    <tr>\n",
              "      <th>훼이셜클렌저</th>\n",
              "      <td>0.355878</td>\n",
              "      <td>0.379716</td>\n",
              "      <td>0.346448</td>\n",
              "      <td>0.142744</td>\n",
              "      <td>0.444549</td>\n",
              "      <td>0.341750</td>\n",
              "      <td>1.000000</td>\n",
              "      <td>0.469625</td>\n",
              "      <td>0.377184</td>\n",
              "      <td>0.362418</td>\n",
              "    </tr>\n",
              "    <tr>\n",
              "      <th>선케어</th>\n",
              "      <td>0.662026</td>\n",
              "      <td>0.693543</td>\n",
              "      <td>0.667235</td>\n",
              "      <td>0.307534</td>\n",
              "      <td>0.662253</td>\n",
              "      <td>0.597183</td>\n",
              "      <td>0.469625</td>\n",
              "      <td>1.000000</td>\n",
              "      <td>0.656006</td>\n",
              "      <td>0.619704</td>\n",
              "    </tr>\n",
              "    <tr>\n",
              "      <th>네일</th>\n",
              "      <td>0.636501</td>\n",
              "      <td>0.684011</td>\n",
              "      <td>0.674724</td>\n",
              "      <td>0.254225</td>\n",
              "      <td>0.651469</td>\n",
              "      <td>0.597022</td>\n",
              "      <td>0.377184</td>\n",
              "      <td>0.656006</td>\n",
              "      <td>1.000000</td>\n",
              "      <td>0.604430</td>\n",
              "    </tr>\n",
              "    <tr>\n",
              "      <th>제모제</th>\n",
              "      <td>0.588104</td>\n",
              "      <td>0.639963</td>\n",
              "      <td>0.624454</td>\n",
              "      <td>0.249026</td>\n",
              "      <td>0.605625</td>\n",
              "      <td>0.553823</td>\n",
              "      <td>0.362418</td>\n",
              "      <td>0.619704</td>\n",
              "      <td>0.604430</td>\n",
              "      <td>1.000000</td>\n",
              "    </tr>\n",
              "  </tbody>\n",
              "</table>\n",
              "</div>"
            ],
            "text/plain": [
              "             립컬러       립케어      마스크팩  ...       선케어        네일       제모제\n",
              "립컬러     1.000000  0.664921  0.643559  ...  0.662026  0.636501  0.588104\n",
              "립케어     0.664921  1.000000  0.713106  ...  0.693543  0.684011  0.639963\n",
              "마스크팩    0.643559  0.713106  1.000000  ...  0.667235  0.674724  0.624454\n",
              "바디로션    0.238465  0.257057  0.253543  ...  0.307534  0.254225  0.249026\n",
              "체중조절    0.659707  0.688223  0.664514  ...  0.662253  0.651469  0.605625\n",
              "크림로션    0.592407  0.638834  0.630598  ...  0.597183  0.597022  0.553823\n",
              "훼이셜클렌저  0.355878  0.379716  0.346448  ...  0.469625  0.377184  0.362418\n",
              "선케어     0.662026  0.693543  0.667235  ...  1.000000  0.656006  0.619704\n",
              "네일      0.636501  0.684011  0.674724  ...  0.656006  1.000000  0.604430\n",
              "제모제     0.588104  0.639963  0.624454  ...  0.619704  0.604430  1.000000\n",
              "\n",
              "[10 rows x 10 columns]"
            ]
          },
          "metadata": {
            "tags": []
          },
          "execution_count": 84
        }
      ]
    },
    {
      "cell_type": "markdown",
      "metadata": {
        "id": "4wLL3gk9zwhV",
        "colab_type": "text"
      },
      "source": [
        "## Lower Humid"
      ]
    },
    {
      "cell_type": "code",
      "metadata": {
        "id": "T-7hgJVWLUKY",
        "colab_type": "code",
        "colab": {
          "base_uri": "https://localhost:8080/",
          "height": 142
        },
        "outputId": "01dc496e-e105-428f-f3f1-cf0f2e94450d"
      },
      "source": [
        "df_lower_humid = df_lower_humid[df_lower_humid['sale_dt'] > 20171231].iloc[:,[1,2,3]]\n",
        "\n",
        "df_lower_humid.head(3)"
      ],
      "execution_count": 85,
      "outputs": [
        {
          "output_type": "execute_result",
          "data": {
            "text/html": [
              "<div>\n",
              "<style scoped>\n",
              "    .dataframe tbody tr th:only-of-type {\n",
              "        vertical-align: middle;\n",
              "    }\n",
              "\n",
              "    .dataframe tbody tr th {\n",
              "        vertical-align: top;\n",
              "    }\n",
              "\n",
              "    .dataframe thead th {\n",
              "        text-align: right;\n",
              "    }\n",
              "</style>\n",
              "<table border=\"1\" class=\"dataframe\">\n",
              "  <thead>\n",
              "    <tr style=\"text-align: right;\">\n",
              "      <th></th>\n",
              "      <th>segmentation</th>\n",
              "      <th>category</th>\n",
              "      <th>qty</th>\n",
              "    </tr>\n",
              "  </thead>\n",
              "  <tbody>\n",
              "    <tr>\n",
              "      <th>547246</th>\n",
              "      <td>종로구 F 20~39</td>\n",
              "      <td>네일</td>\n",
              "      <td>36.0</td>\n",
              "    </tr>\n",
              "    <tr>\n",
              "      <th>547247</th>\n",
              "      <td>종로구 F 20~39</td>\n",
              "      <td>립컬러</td>\n",
              "      <td>182.0</td>\n",
              "    </tr>\n",
              "    <tr>\n",
              "      <th>547248</th>\n",
              "      <td>종로구 F 20~39</td>\n",
              "      <td>립케어</td>\n",
              "      <td>146.0</td>\n",
              "    </tr>\n",
              "  </tbody>\n",
              "</table>\n",
              "</div>"
            ],
            "text/plain": [
              "       segmentation category    qty\n",
              "547246  종로구 F 20~39       네일   36.0\n",
              "547247  종로구 F 20~39      립컬러  182.0\n",
              "547248  종로구 F 20~39      립케어  146.0"
            ]
          },
          "metadata": {
            "tags": []
          },
          "execution_count": 85
        }
      ]
    },
    {
      "cell_type": "code",
      "metadata": {
        "id": "IPr3G3WY0GMG",
        "colab_type": "code",
        "colab": {
          "base_uri": "https://localhost:8080/",
          "height": 85
        },
        "outputId": "b65ac281-36e1-43e7-cbca-80e0e5499bc3"
      },
      "source": [
        "surprise_df_lower_humid = surprise.Dataset.load_from_df(df_lower_humid,reader)\n",
        "\n",
        "trainset, testset = train_test_split(surprise_df_lower_humid, test_size=0.25,shuffle=True,random_state=42)\n",
        "\n",
        "algo_knn.fit(trainset)\n",
        "\n",
        "sim_knn = algo_knn.compute_similarities()\n",
        "\n",
        "knn_lower_humid = pd.DataFrame(sim_knn)"
      ],
      "execution_count": 86,
      "outputs": [
        {
          "output_type": "stream",
          "text": [
            "Computing the cosine similarity matrix...\n",
            "Done computing similarity matrix.\n",
            "Computing the cosine similarity matrix...\n",
            "Done computing similarity matrix.\n"
          ],
          "name": "stdout"
        }
      ]
    },
    {
      "cell_type": "code",
      "metadata": {
        "id": "7_AcHGeA0GJ8",
        "colab_type": "code",
        "colab": {
          "base_uri": "https://localhost:8080/",
          "height": 359
        },
        "outputId": "9984497f-6d72-4f91-84c4-6787cbedbb4c"
      },
      "source": [
        "knn_lower_humid.columns = label\n",
        "knn_lower_humid.index  = label\n",
        "knn_lower_humid"
      ],
      "execution_count": 87,
      "outputs": [
        {
          "output_type": "execute_result",
          "data": {
            "text/html": [
              "<div>\n",
              "<style scoped>\n",
              "    .dataframe tbody tr th:only-of-type {\n",
              "        vertical-align: middle;\n",
              "    }\n",
              "\n",
              "    .dataframe tbody tr th {\n",
              "        vertical-align: top;\n",
              "    }\n",
              "\n",
              "    .dataframe thead th {\n",
              "        text-align: right;\n",
              "    }\n",
              "</style>\n",
              "<table border=\"1\" class=\"dataframe\">\n",
              "  <thead>\n",
              "    <tr style=\"text-align: right;\">\n",
              "      <th></th>\n",
              "      <th>립컬러</th>\n",
              "      <th>립케어</th>\n",
              "      <th>마스크팩</th>\n",
              "      <th>바디로션</th>\n",
              "      <th>체중조절</th>\n",
              "      <th>크림로션</th>\n",
              "      <th>훼이셜클렌저</th>\n",
              "      <th>선케어</th>\n",
              "      <th>네일</th>\n",
              "      <th>제모제</th>\n",
              "    </tr>\n",
              "  </thead>\n",
              "  <tbody>\n",
              "    <tr>\n",
              "      <th>립컬러</th>\n",
              "      <td>1.000000</td>\n",
              "      <td>0.664921</td>\n",
              "      <td>0.643559</td>\n",
              "      <td>0.238465</td>\n",
              "      <td>0.659707</td>\n",
              "      <td>0.592407</td>\n",
              "      <td>0.355878</td>\n",
              "      <td>0.662026</td>\n",
              "      <td>0.636501</td>\n",
              "      <td>0.588104</td>\n",
              "    </tr>\n",
              "    <tr>\n",
              "      <th>립케어</th>\n",
              "      <td>0.664921</td>\n",
              "      <td>1.000000</td>\n",
              "      <td>0.713106</td>\n",
              "      <td>0.257057</td>\n",
              "      <td>0.688223</td>\n",
              "      <td>0.638834</td>\n",
              "      <td>0.379716</td>\n",
              "      <td>0.693543</td>\n",
              "      <td>0.684011</td>\n",
              "      <td>0.639963</td>\n",
              "    </tr>\n",
              "    <tr>\n",
              "      <th>마스크팩</th>\n",
              "      <td>0.643559</td>\n",
              "      <td>0.713106</td>\n",
              "      <td>1.000000</td>\n",
              "      <td>0.253543</td>\n",
              "      <td>0.664514</td>\n",
              "      <td>0.630598</td>\n",
              "      <td>0.346448</td>\n",
              "      <td>0.667235</td>\n",
              "      <td>0.674724</td>\n",
              "      <td>0.624454</td>\n",
              "    </tr>\n",
              "    <tr>\n",
              "      <th>바디로션</th>\n",
              "      <td>0.238465</td>\n",
              "      <td>0.257057</td>\n",
              "      <td>0.253543</td>\n",
              "      <td>1.000000</td>\n",
              "      <td>0.268775</td>\n",
              "      <td>0.238056</td>\n",
              "      <td>0.142744</td>\n",
              "      <td>0.307534</td>\n",
              "      <td>0.254225</td>\n",
              "      <td>0.249026</td>\n",
              "    </tr>\n",
              "    <tr>\n",
              "      <th>체중조절</th>\n",
              "      <td>0.659707</td>\n",
              "      <td>0.688223</td>\n",
              "      <td>0.664514</td>\n",
              "      <td>0.268775</td>\n",
              "      <td>1.000000</td>\n",
              "      <td>0.590326</td>\n",
              "      <td>0.444549</td>\n",
              "      <td>0.662253</td>\n",
              "      <td>0.651469</td>\n",
              "      <td>0.605625</td>\n",
              "    </tr>\n",
              "    <tr>\n",
              "      <th>크림로션</th>\n",
              "      <td>0.592407</td>\n",
              "      <td>0.638834</td>\n",
              "      <td>0.630598</td>\n",
              "      <td>0.238056</td>\n",
              "      <td>0.590326</td>\n",
              "      <td>1.000000</td>\n",
              "      <td>0.341750</td>\n",
              "      <td>0.597183</td>\n",
              "      <td>0.597022</td>\n",
              "      <td>0.553823</td>\n",
              "    </tr>\n",
              "    <tr>\n",
              "      <th>훼이셜클렌저</th>\n",
              "      <td>0.355878</td>\n",
              "      <td>0.379716</td>\n",
              "      <td>0.346448</td>\n",
              "      <td>0.142744</td>\n",
              "      <td>0.444549</td>\n",
              "      <td>0.341750</td>\n",
              "      <td>1.000000</td>\n",
              "      <td>0.469625</td>\n",
              "      <td>0.377184</td>\n",
              "      <td>0.362418</td>\n",
              "    </tr>\n",
              "    <tr>\n",
              "      <th>선케어</th>\n",
              "      <td>0.662026</td>\n",
              "      <td>0.693543</td>\n",
              "      <td>0.667235</td>\n",
              "      <td>0.307534</td>\n",
              "      <td>0.662253</td>\n",
              "      <td>0.597183</td>\n",
              "      <td>0.469625</td>\n",
              "      <td>1.000000</td>\n",
              "      <td>0.656006</td>\n",
              "      <td>0.619704</td>\n",
              "    </tr>\n",
              "    <tr>\n",
              "      <th>네일</th>\n",
              "      <td>0.636501</td>\n",
              "      <td>0.684011</td>\n",
              "      <td>0.674724</td>\n",
              "      <td>0.254225</td>\n",
              "      <td>0.651469</td>\n",
              "      <td>0.597022</td>\n",
              "      <td>0.377184</td>\n",
              "      <td>0.656006</td>\n",
              "      <td>1.000000</td>\n",
              "      <td>0.604430</td>\n",
              "    </tr>\n",
              "    <tr>\n",
              "      <th>제모제</th>\n",
              "      <td>0.588104</td>\n",
              "      <td>0.639963</td>\n",
              "      <td>0.624454</td>\n",
              "      <td>0.249026</td>\n",
              "      <td>0.605625</td>\n",
              "      <td>0.553823</td>\n",
              "      <td>0.362418</td>\n",
              "      <td>0.619704</td>\n",
              "      <td>0.604430</td>\n",
              "      <td>1.000000</td>\n",
              "    </tr>\n",
              "  </tbody>\n",
              "</table>\n",
              "</div>"
            ],
            "text/plain": [
              "             립컬러       립케어      마스크팩  ...       선케어        네일       제모제\n",
              "립컬러     1.000000  0.664921  0.643559  ...  0.662026  0.636501  0.588104\n",
              "립케어     0.664921  1.000000  0.713106  ...  0.693543  0.684011  0.639963\n",
              "마스크팩    0.643559  0.713106  1.000000  ...  0.667235  0.674724  0.624454\n",
              "바디로션    0.238465  0.257057  0.253543  ...  0.307534  0.254225  0.249026\n",
              "체중조절    0.659707  0.688223  0.664514  ...  0.662253  0.651469  0.605625\n",
              "크림로션    0.592407  0.638834  0.630598  ...  0.597183  0.597022  0.553823\n",
              "훼이셜클렌저  0.355878  0.379716  0.346448  ...  0.469625  0.377184  0.362418\n",
              "선케어     0.662026  0.693543  0.667235  ...  1.000000  0.656006  0.619704\n",
              "네일      0.636501  0.684011  0.674724  ...  0.656006  1.000000  0.604430\n",
              "제모제     0.588104  0.639963  0.624454  ...  0.619704  0.604430  1.000000\n",
              "\n",
              "[10 rows x 10 columns]"
            ]
          },
          "metadata": {
            "tags": []
          },
          "execution_count": 87
        }
      ]
    },
    {
      "cell_type": "code",
      "metadata": {
        "id": "LeAvOPv-0GHw",
        "colab_type": "code",
        "colab": {}
      },
      "source": [
        ""
      ],
      "execution_count": 0,
      "outputs": []
    },
    {
      "cell_type": "code",
      "metadata": {
        "id": "-eiwRdWP0GFr",
        "colab_type": "code",
        "colab": {}
      },
      "source": [
        ""
      ],
      "execution_count": 0,
      "outputs": []
    },
    {
      "cell_type": "code",
      "metadata": {
        "id": "KGfa_lve0GDn",
        "colab_type": "code",
        "colab": {}
      },
      "source": [
        ""
      ],
      "execution_count": 0,
      "outputs": []
    }
  ]
}